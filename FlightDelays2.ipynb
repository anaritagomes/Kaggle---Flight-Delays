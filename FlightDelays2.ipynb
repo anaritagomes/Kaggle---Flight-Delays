{
  "nbformat": 4,
  "nbformat_minor": 0,
  "metadata": {
    "colab": {
      "name": "Trab. Individual_FINAL.ipynb",
      "version": "0.3.2",
      "provenance": [],
      "collapsed_sections": []
    },
    "kernelspec": {
      "display_name": "Python 3",
      "language": "python",
      "name": "python3"
    },
    "language_info": {
      "codemirror_mode": {
        "name": "ipython",
        "version": 3
      },
      "file_extension": ".py",
      "mimetype": "text/x-python",
      "name": "python",
      "nbconvert_exporter": "python",
      "pygments_lexer": "ipython3",
      "version": "3.7.4"
    },
    "toc-autonumbering": false,
    "toc-showcode": false,
    "toc-showmarkdowntxt": false,
    "toc-showtags": false
  },
  "cells": [
    {
      "cell_type": "code",
      "metadata": {
        "colab_type": "code",
        "id": "Pg9TRCk7dHtj",
        "outputId": "55ccf9b8-fc48-47c6-b07e-e355ef8984e5",
        "colab": {
          "base_uri": "https://localhost:8080/",
          "height": 17
        }
      },
      "source": [
        "%%html\n",
        "\n",
        "<!-- \n",
        "hack to inject CSS in jupyterlab. \n",
        "\n",
        "Please RUN this cell before read the document\n",
        "-->\n",
        "\n",
        "<style>\n",
        "    .alert-success {\n",
        "        background-color: #dff0d8;\n",
        "        border-color: #d6e9c6;\n",
        "        color: #3c763d;\n",
        "    }\n",
        "    .alert {\n",
        "        padding: 15px;\n",
        "        margin-bottom: 18px;\n",
        "        border: 1px solid transparent;\n",
        "        border-radius: 2px;\n",
        "    }\n",
        "    .alert-info {\n",
        "        background-color: #d9edf7;\n",
        "        border-color: #bce8f1;\n",
        "        color: #31708f;\n",
        "    }\n",
        "    .alert-warning {\n",
        "        background-color: #fcf8e3;\n",
        "        border-color: #faebcc;\n",
        "        color: #8a6d3b;\n",
        "    }\n",
        "    .badge {\n",
        "        display: inline-block;\n",
        "        min-width: 10px;\n",
        "        padding: 3px 7px;\n",
        "        font-size: 12px;\n",
        "        font-weight: bold;\n",
        "        color: #fff;\n",
        "        line-height: 1;\n",
        "        vertical-align: middle;\n",
        "        white-space: nowrap;\n",
        "        text-align: center;\n",
        "        background-color: #777777;\n",
        "        border-radius: 10px;\n",
        "    }\n",
        "</style>"
      ],
      "execution_count": 107,
      "outputs": [
        {
          "output_type": "display_data",
          "data": {
            "text/html": [
              "\n",
              "<!-- \n",
              "hack to inject CSS in jupyterlab. \n",
              "\n",
              "Please RUN this cell before read the document\n",
              "-->\n",
              "\n",
              "<style>\n",
              "    .alert-success {\n",
              "        background-color: #dff0d8;\n",
              "        border-color: #d6e9c6;\n",
              "        color: #3c763d;\n",
              "    }\n",
              "    .alert {\n",
              "        padding: 15px;\n",
              "        margin-bottom: 18px;\n",
              "        border: 1px solid transparent;\n",
              "        border-radius: 2px;\n",
              "    }\n",
              "    .alert-info {\n",
              "        background-color: #d9edf7;\n",
              "        border-color: #bce8f1;\n",
              "        color: #31708f;\n",
              "    }\n",
              "    .alert-warning {\n",
              "        background-color: #fcf8e3;\n",
              "        border-color: #faebcc;\n",
              "        color: #8a6d3b;\n",
              "    }\n",
              "    .badge {\n",
              "        display: inline-block;\n",
              "        min-width: 10px;\n",
              "        padding: 3px 7px;\n",
              "        font-size: 12px;\n",
              "        font-weight: bold;\n",
              "        color: #fff;\n",
              "        line-height: 1;\n",
              "        vertical-align: middle;\n",
              "        white-space: nowrap;\n",
              "        text-align: center;\n",
              "        background-color: #777777;\n",
              "        border-radius: 10px;\n",
              "    }\n",
              "</style>"
            ],
            "text/plain": [
              "<IPython.core.display.HTML object>"
            ]
          },
          "metadata": {
            "tags": []
          }
        }
      ]
    },
    {
      "cell_type": "code",
      "metadata": {
        "colab_type": "code",
        "id": "QfJmI9MIdHuS",
        "colab": {}
      },
      "source": [
        "import seaborn"
      ],
      "execution_count": 0,
      "outputs": []
    },
    {
      "cell_type": "markdown",
      "metadata": {
        "colab_type": "text",
        "id": "haVuI3IedHug"
      },
      "source": [
        "# PGDS Rumos - Programação em Python \n",
        "### Trabalho prático individual\n",
        "\n",
        "Data limite de entrega: 3 de Agosto de 2019 às 23:59\n",
        "\n",
        "---"
      ]
    },
    {
      "cell_type": "markdown",
      "metadata": {
        "colab_type": "text",
        "id": "XN1u-IIEdHul"
      },
      "source": [
        "\n",
        "\n",
        "# Parte 2\n",
        "\n",
        "A segunda parte do trabalho de Pandas pretende cimentar os conhecimentos de pandas terminando a pipeline de DS.\n",
        "\n",
        "A estrutura deste notebook e dos módulos de python já se encontra definida. Apenas terão de:\n",
        "\n",
        "1. completar funções ou parte de código;\n",
        "2. implementar a totalidade do código numa **única** célula de forma a responder a uma pergunta.\n",
        "\n",
        "**Nota**: se vos for mais conveniente poderão alterar a estrutura dos módulos e / ou notebook. Se assim o quiserem, por favor, adicionem comentários esclarecedores relativos a cada parte de forma a eu não cometer erros na avaliação.\n",
        "\n",
        "<p>\n",
        "  <div class=\"alert alert-success\">\n",
        "    Todas as perguntas estarão assinaladas com este fundo verde.\n",
        "  </div>\n",
        "</p>\n",
        "\n",
        "<p>\n",
        "  <div class=\"alert alert-info\">\n",
        "    Notem que durante o notebook irão encontrar o comando <a href=\"https://wiki.python.org/moin/UsingAssertionsEffectively\">assert</a> várias vezes. Este comando permite verificar se duas expressões têm o mesmo valor. Irei usá-lo para confirmar que certos valores estão correctos. <span class=\"badge\">Caso algum dê erro, venham falar comigo.</span>\n",
        "  </div>\n",
        "</p>\n",
        "\n",
        "O índice da segunda parte é o seguinte:\n",
        "\n",
        "**1. Continuar data understanding** <br>\n",
        "- 1.1 Dados de voos\n",
        "- 1.2 Análise temporal\n",
        "- 1.3 Considerando informação de contexto\n",
        "\n",
        "**2. Gerar dataset histórico, de treino e de teste** <br>\n",
        "- 2.1 Motivação\n",
        "- 2.2 Construção dos datasets\n",
        "\n",
        "**3. Feature Engineering** <br>\n",
        "- 3.1 Usando dados históricos\n",
        "- 3.2 Novos campos temporais\n",
        "- 3.3 Risky features e OHE\n",
        "- 3.4 Normalizar colunas\n",
        "- 3.5 Outras colunas\n",
        "- 3.6 Remover colunas desnecessárias\n",
        "\n",
        "**4. Construir regressão logística** <br>\n",
        "- 4.1 Treino do modelo\n",
        "- 4.2 Construir matriz de confusão\n",
        "- 4.3 Avaliar performance do modelo"
      ]
    },
    {
      "cell_type": "markdown",
      "metadata": {
        "colab_type": "text",
        "id": "Zq_DSwXZdHux"
      },
      "source": [
        "___"
      ]
    },
    {
      "cell_type": "code",
      "metadata": {
        "colab_type": "code",
        "id": "cDpXvs0WdHu2",
        "colab": {}
      },
      "source": [
        "def read_flights_data(path):\n",
        "    \"\"\"\n",
        "    Reads flights dataset\n",
        "    \n",
        "    I'm specifiying different types for each column due to memory consumption\n",
        "    \n",
        "    Parameters:\n",
        "    ----------\n",
        "    path : string\n",
        "        flights dataset location\n",
        "    \"\"\"\n",
        "    import pandas as pd\n",
        "    import csv\n",
        "    return pd.read_csv(path, \n",
        "                     sep=',',\n",
        "                     quoting=csv.QUOTE_NONE,\n",
        "                     dtype={'air_system_delay': 'float32',\n",
        "                            'air_time': 'float32',\n",
        "                            'airline': 'category',\n",
        "                            'airline_delay': 'float32',\n",
        "                            'arrival_delay': 'float32',\n",
        "                            'arrival_time': 'float32',\n",
        "                            'cancellation_reason': 'category',\n",
        "                            'cancelled': 'bool',\n",
        "                            'day': 'int32',\n",
        "                            'day_of_week': 'int32',\n",
        "                            'departure_delay': 'float32',\n",
        "                            'departure_time': 'float32',\n",
        "                            'destination_airport': 'object',\n",
        "                            'distance': 'int32',\n",
        "                            'diverted': 'bool',\n",
        "                            'elapsed_time': 'float32',\n",
        "                            'flight_number': 'int32',\n",
        "                            'late_aircraft_delay': 'float32',\n",
        "                            'month': 'int32',\n",
        "                            'origin_airport': 'object',\n",
        "                            'scheduled_arrival': 'float32',\n",
        "                            'scheduled_departure': 'float32',\n",
        "                            'scheduled_time': 'float32',\n",
        "                            'security_delay': 'float32',\n",
        "                            'tail_number': 'object',\n",
        "                            'taxi_in': 'float32',\n",
        "                            'taxi_out': 'float32',\n",
        "                            'weather_delay': 'float32',\n",
        "                            'wheels_off': 'float32',\n",
        "                            'wheels_on': 'float32',\n",
        "                            'year': 'int32'}\n",
        "    )\n",
        "\n"
      ],
      "execution_count": 0,
      "outputs": []
    },
    {
      "cell_type": "markdown",
      "metadata": {
        "colab_type": "text",
        "id": "ZIbSXi0mdHvD"
      },
      "source": [
        "Vamos começar por carregar todas as dependências que podemos vir a usar. "
      ]
    },
    {
      "cell_type": "code",
      "metadata": {
        "colab_type": "code",
        "id": "h_smSngjdHvH",
        "outputId": "7033da24-2efa-4a91-ff56-3ce403da5498",
        "colab": {
          "base_uri": "https://localhost:8080/",
          "height": 51
        }
      },
      "source": [
        "import math\n",
        "import datetime\n",
        "import numpy as np\n",
        "import pandas as pd\n",
        "import matplotlib.pyplot as plt\n",
        "import seaborn as sns\n",
        "import scipy as sp\n",
        "# https://plot.ly/python/offline/\n",
        "import plotly.offline as py\n",
        "\n",
        "from os import listdir\n",
        "from os.path import isfile, join\n",
        "from sklearn import linear_model\n",
        "from pandas import Series\n",
        "\n",
        "# inline matplotlib plots\n",
        "%matplotlib inline\n",
        "# inline plotly plots\n",
        "py.init_notebook_mode(connected=True)\n",
        "\n",
        "# all pandas prints will have this format\n",
        "pd.options.display.float_format = '{:,.3f}'.format\n",
        "pd.set_option(\"display.max_columns\", 100)\n",
        "pd.set_option('display.max_rows', 200)\n",
        "\n",
        "# Reload all modules (except those excluded by %aimport) before executing the Python code typed.\n",
        "# http://ipython.readthedocs.io/en/stable/config/extensions/autoreload.html\n",
        "%load_ext autoreload\n",
        "%autoreload 2"
      ],
      "execution_count": 110,
      "outputs": [
        {
          "output_type": "display_data",
          "data": {
            "text/vnd.plotly.v1+html": "<script type=\"text/javascript\">window.PlotlyConfig = {MathJaxConfig: 'local'};</script><script type=\"text/javascript\">if (window.MathJax) {MathJax.Hub.Config({SVG: {font: \"STIX-Web\"}});}</script><script>requirejs.config({paths: { 'plotly': ['https://cdn.plot.ly/plotly-latest.min']},});if(!window._Plotly) {require(['plotly'],function(plotly) {window._Plotly=plotly;});}</script>",
            "text/html": [
              "<script type=\"text/javascript\">window.PlotlyConfig = {MathJaxConfig: 'local'};</script><script type=\"text/javascript\">if (window.MathJax) {MathJax.Hub.Config({SVG: {font: \"STIX-Web\"}});}</script><script>requirejs.config({paths: { 'plotly': ['https://cdn.plot.ly/plotly-latest.min']},});if(!window._Plotly) {require(['plotly'],function(plotly) {window._Plotly=plotly;});}</script>"
            ]
          },
          "metadata": {
            "tags": []
          }
        },
        {
          "output_type": "stream",
          "text": [
            "The autoreload extension is already loaded. To reload it, use:\n",
            "  %reload_ext autoreload\n"
          ],
          "name": "stdout"
        }
      ]
    },
    {
      "cell_type": "code",
      "metadata": {
        "colab_type": "code",
        "id": "_u-NGOLRdHvn",
        "colab": {}
      },
      "source": [
        ""
      ],
      "execution_count": 0,
      "outputs": []
    },
    {
      "cell_type": "code",
      "metadata": {
        "colab_type": "code",
        "id": "22qI8B8qdHvy",
        "colab": {}
      },
      "source": [
        "plt.rcParams['figure.figsize'] = 12, 8  # default image size"
      ],
      "execution_count": 0,
      "outputs": []
    },
    {
      "cell_type": "markdown",
      "metadata": {
        "colab_type": "text",
        "id": "Zb7uJeK7dHv_"
      },
      "source": [
        "___\n",
        "### 1. Continuar data understanding\n",
        "___"
      ]
    },
    {
      "cell_type": "markdown",
      "metadata": {
        "colab_type": "text",
        "id": "7iUCQGRydHwI"
      },
      "source": [
        "Por ser um notebook diferente, temos de voltar a carregar os datasets em memória."
      ]
    },
    {
      "cell_type": "code",
      "metadata": {
        "colab_type": "code",
        "id": "_Kfb10yFUcuf",
        "colab": {}
      },
      "source": [
        ""
      ],
      "execution_count": 0,
      "outputs": []
    },
    {
      "cell_type": "code",
      "metadata": {
        "colab_type": "code",
        "id": "9nGnthXfdHwN",
        "outputId": "26e790eb-8e20-40a5-9c3d-4fe7a2e73f05",
        "colab": {
          "base_uri": "https://localhost:8080/",
          "height": 68
        }
      },
      "source": [
        "import os\n",
        "path = join(os.getcwd(), '')\n",
        "\n",
        "#airlines = pd.read_csv(join(path, 'airlines.csv'))\n",
        "#airports = pd.read_csv(join(path, 'airports.csv'))\n",
        "#flights = read_flights_data(join(path, 'flights_until_june.csv'))\n",
        "\n",
        "airlines = pd.read_csv('https://gitlab.com/elsousa/pgds-rumos/raw/master/airlines.csv')\n",
        "airports = pd.read_csv('https://gitlab.com/elsousa/pgds-rumos/raw/master/airports.csv')\n",
        "flights = pd.read_csv('https://gitlab.com/elsousa/pgds-rumos/raw/master/flights_until_june.csv')\n",
        "\n",
        "\n",
        "# confirm number of rows and columns per dataset\n",
        "assert airlines.shape == (14, 2)\n",
        "assert airports.shape == (322, 7)\n",
        "assert flights.shape == (2889512, 31)\n",
        "print('Airlines:', airlines.shape)\n",
        "print('Airports:', airports.shape)\n",
        "print(' Flights:', flights.shape)"
      ],
      "execution_count": 112,
      "outputs": [
        {
          "output_type": "stream",
          "text": [
            "Airlines: (14, 2)\n",
            "Airports: (322, 7)\n",
            " Flights: (2889512, 31)\n"
          ],
          "name": "stdout"
        }
      ]
    },
    {
      "cell_type": "markdown",
      "metadata": {
        "colab_type": "text",
        "id": "9V_SZ1M3dHwd"
      },
      "source": [
        "Antes de começar o DU vamos remover algumas colunas que não serão usadas."
      ]
    },
    {
      "cell_type": "code",
      "metadata": {
        "colab_type": "code",
        "id": "xnpqi5UgdHwi",
        "colab": {}
      },
      "source": [
        "columns_to_remove = 'flight_number day_of_week tail_number departure_time taxi_out wheels_off wheels_on taxi_in scheduled_arrival arrival_time diverted'.split()\n",
        "\n",
        "flights.drop(columns_to_remove, inplace=True, axis=1)"
      ],
      "execution_count": 0,
      "outputs": []
    },
    {
      "cell_type": "markdown",
      "metadata": {
        "colab_type": "text",
        "id": "YdFZAC3odHxD"
      },
      "source": [
        "Na primeira parte do trabalho definimos as colunas `date` e `is_delayed`. Na próxima célula cole o código necessário para as criar, pois estas serão usadas ao longo deste notebook.\n",
        "\n",
        "<span class=\"badge\">Nota:</span> Se não conseguiu definir alguma destas colunas entre em contacto com o formador."
      ]
    },
    {
      "cell_type": "code",
      "metadata": {
        "colab_type": "code",
        "id": "Bt97AeqadHxH",
        "outputId": "4719a17f-aa0a-4740-c302-43a685c72a97",
        "colab": {
          "base_uri": "https://localhost:8080/",
          "height": 136
        }
      },
      "source": [
        "flights['is_delayed'] = flights.arrival_delay >= 15\n",
        "flights.head()\n",
        "\n",
        "kk = flights[['year','month','day']] \n",
        "\n",
        "#to_datetime agrega valores de cada uma das series ano/mes/dia\n",
        "flights['date'] = pd.to_datetime(kk)\n",
        "\n",
        "flights['date'].head(10)\n",
        "flights.columns"
      ],
      "execution_count": 114,
      "outputs": [
        {
          "output_type": "execute_result",
          "data": {
            "text/plain": [
              "Index(['year', 'month', 'day', 'airline', 'origin_airport',\n",
              "       'destination_airport', 'scheduled_departure', 'departure_delay',\n",
              "       'scheduled_time', 'elapsed_time', 'air_time', 'distance',\n",
              "       'arrival_delay', 'cancelled', 'cancellation_reason', 'air_system_delay',\n",
              "       'security_delay', 'airline_delay', 'late_aircraft_delay',\n",
              "       'weather_delay', 'is_delayed', 'date'],\n",
              "      dtype='object')"
            ]
          },
          "metadata": {
            "tags": []
          },
          "execution_count": 114
        }
      ]
    },
    {
      "cell_type": "markdown",
      "metadata": {
        "colab_type": "text",
        "id": "Fho7dUmVdHxe"
      },
      "source": [
        "#### 1.1 Dados de voos"
      ]
    },
    {
      "cell_type": "markdown",
      "metadata": {
        "colab_type": "text",
        "id": "e9_hXOm4dHxj"
      },
      "source": [
        "Como complemento ao data understanding (DU) realizado na primeira parte do trabalho, vamos começar por coletar insights sobre o atraso do voos."
      ]
    },
    {
      "cell_type": "markdown",
      "metadata": {
        "colab_type": "text",
        "id": "EgT2ADXmdHxo"
      },
      "source": [
        "Como se observou na primeira parte do trabalho, os atrasos variam imenso de companhia aéra para companhia aérea. Assim sendo, vamos analisar um pouco mais esta questão de voos atrasados. Afinal, é isso que queremos prever com a regressão logística.\n",
        "<br><br>\n",
        "Se repararem, para os voos com atraso, temos detalhado nas colunas `airline_delay`, `late_aircraft_delay`, `air_system_delay`, `security_delay` e `weather_delay` o tempo de atraso associado com cada uma deste motivos.\n",
        "<br><br>\n",
        "<div class=\"alert alert-success\">\n",
        "Q.1<br>\n",
        "    Assim, vamos começar por analisar a distribuição dos motivos de atraso por mês - <b>apenas para os voos com atraso</b>. \n",
        "    <br><br>\n",
        "    Portanto, a ideia é, para cada mês, obter a percentagem dos atrasos que cada motivo de atraso representa. Assim, construa o dataframe <code>delays</code> com esta informação mensal.\n",
        "    <br><br>\n",
        "    A variável <code>total_delay</code> tem, para cada mês, a soma de todos os atrasos. \n",
        "</div>"
      ]
    },
    {
      "cell_type": "code",
      "metadata": {
        "colab_type": "code",
        "id": "uzwjlbD6dHxr",
        "outputId": "dc5ab92f-24ad-4081-bb12-f02d7d0e8091",
        "colab": {
          "base_uri": "https://localhost:8080/",
          "height": 514
        }
      },
      "source": [
        "from pandas import DataFrame\n",
        "import numpy as np\n",
        "\n",
        "# delays dataframe should have this format\n",
        "#\n",
        "#        airline_delay  late_aircraft_delay  air_system_delay  security_delay  weather_delay \n",
        "# month                                                                                       \n",
        "# 1              0.314                0.401             0.235           0.001          0.048  \n",
        "# 2              0.304                0.383             0.239           0.001          0.073  \n",
        "# 3              0.334                0.396             0.226           0.001          0.042  \n",
        "# 4              0.323                0.387             0.242           0.001          0.048  \n",
        "# 5              0.307                0.400             0.231           0.001          0.062  \n",
        "# 6              0.312                0.415             0.221           0.001          0.052 \n",
        "\n",
        "columns = 'month airline_delay late_aircraft_delay air_system_delay security_delay weather_delay'.split()\n",
        "\n",
        "#new DF\n",
        "delays = flights[columns][flights.is_delayed == True].groupby('month').agg('sum')\n",
        "delays.head(100)\n",
        "\n",
        "total_delay = delays.sum(axis=1)\n",
        "total_delay\n",
        "\n",
        "for c in delays.columns:\n",
        "  delays[c] /= total_delay\n",
        "  \n",
        "delays\n",
        "\n",
        "\n",
        "delays.plot.bar(stacked=True, ylim=(0,1)).legend(loc='center left', bbox_to_anchor=(1, 0.5))"
      ],
      "execution_count": 115,
      "outputs": [
        {
          "output_type": "execute_result",
          "data": {
            "text/plain": [
              "<matplotlib.legend.Legend at 0x7f8b3da14cf8>"
            ]
          },
          "metadata": {
            "tags": []
          },
          "execution_count": 115
        },
        {
          "output_type": "display_data",
          "data": {
            "image/png": "[encoded data removed]",
            "text/plain": [
              "<Figure size 864x576 with 1 Axes>"
            ]
          },
          "metadata": {
            "tags": []
          }
        }
      ]
    },
    {
      "cell_type": "code",
      "metadata": {
        "colab_type": "code",
        "id": "N7lqp77kdHx8",
        "outputId": "f1fdb512-928f-46ef-e90f-f6d525d38803",
        "colab": {
          "base_uri": "https://localhost:8080/",
          "height": 501
        }
      },
      "source": [
        "# the bar plot should be similar to this plot\n",
        "\n",
        "from IPython.display import display, HTML\n",
        "display(HTML('''\n",
        "<img src=\"data:image/png;base64,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&#10\">\n",
        "'''))"
      ],
      "execution_count": 116,
      "outputs": [
        {
          "output_type": "display_data",
          "data": {
            "text/html": [
              "\n",
              "<img src=\"data:image/png;base64,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&#10\">\n"
            ],
            "text/plain": [
              "<IPython.core.display.HTML object>"
            ]
          },
          "metadata": {
            "tags": []
          }
        }
      ]
    },
    {
      "cell_type": "markdown",
      "metadata": {
        "colab_type": "text",
        "id": "rsSkoUaYdHyH"
      },
      "source": [
        "Ok, mensalmente os motivos de atraso parecem ser bastante estáveis. \n",
        "<br><br>\n",
        "<div class=\"alert alert-success\">\n",
        "Q.2 <br>\n",
        "Assim sendo, vamos calcular a média de cada um destes atrasos (apenas para os voos com atraso).\n",
        "</div>"
      ]
    },
    {
      "cell_type": "code",
      "metadata": {
        "colab_type": "code",
        "id": "kxHwPL2ldHyM",
        "outputId": "fe0b7d62-694e-4cb3-ef80-5c884c89fb9d",
        "colab": {
          "base_uri": "https://localhost:8080/",
          "height": 119
        }
      },
      "source": [
        "# delay's average\n",
        "\n",
        "delays.mean()\n",
        "\n"
      ],
      "execution_count": 117,
      "outputs": [
        {
          "output_type": "execute_result",
          "data": {
            "text/plain": [
              "airline_delay         0.316\n",
              "late_aircraft_delay   0.397\n",
              "air_system_delay      0.232\n",
              "security_delay        0.001\n",
              "weather_delay         0.054\n",
              "dtype: float64"
            ]
          },
          "metadata": {
            "tags": []
          },
          "execution_count": 117
        }
      ]
    },
    {
      "cell_type": "markdown",
      "metadata": {
        "colab_type": "text",
        "id": "515BdVnxdHyc"
      },
      "source": [
        "<div class=\"alert alert-success\">\n",
        "Q.3<br>\n",
        "    Considerando apenas os aeroportos de partida, calcule o top-10 com mais voos atrasados (em percentagem).\n",
        "</div>"
      ]
    },
    {
      "cell_type": "code",
      "metadata": {
        "colab_type": "code",
        "id": "Eagn6t2zdHyk",
        "outputId": "ba94028f-e825-4cdd-ee0c-14ed6acbcade",
        "colab": {
          "base_uri": "https://localhost:8080/",
          "height": 204
        }
      },
      "source": [
        "# top-10 delayed origin_airport\n",
        "\n",
        "flights_per_airport = flights['origin_airport'].value_counts() \n",
        "\n",
        "delayed_flights = flights['origin_airport'][flights.is_delayed == True].value_counts()\n",
        "\n",
        "top_10_delayed = delayed_flights/flights_per_airport\n",
        "\n",
        "top_10_delayed.sort_values(ascending=False).head(10)\n",
        "\n"
      ],
      "execution_count": 118,
      "outputs": [
        {
          "output_type": "execute_result",
          "data": {
            "text/plain": [
              "PPG   0.382\n",
              "GST   0.375\n",
              "ILG   0.370\n",
              "ADK   0.346\n",
              "PBG   0.321\n",
              "MEI   0.297\n",
              "BPT   0.293\n",
              "STC   0.289\n",
              "GGG   0.274\n",
              "TTN   0.273\n",
              "Name: origin_airport, dtype: float64"
            ]
          },
          "metadata": {
            "tags": []
          },
          "execution_count": 118
        }
      ]
    },
    {
      "cell_type": "markdown",
      "metadata": {
        "colab_type": "text",
        "id": "TDbF1kW0dHy3"
      },
      "source": [
        "O aeroporto de partida com mais voos atrasados é o <a href=\"https://en.wikipedia.org/wiki/Pago_Pago_International_Airport\">PPG</a>. \n",
        "<div class=\"alert alert-success\">\n",
        "Q.4<br>\n",
        "    Pare este aeroporo, calcule o número de voos que saem por mês.\n",
        "</div>"
      ]
    },
    {
      "cell_type": "code",
      "metadata": {
        "colab_type": "code",
        "id": "8UMnRrn5dHy8",
        "outputId": "a32d4bd2-5b37-4e31-9c55-2d4662b2d04a",
        "colab": {
          "base_uri": "https://localhost:8080/",
          "height": 136
        }
      },
      "source": [
        "# monthly flights from PPG airport\n",
        "\n",
        "a = flights.loc[flights['origin_airport'] == 'PPG']['month'].value_counts()\n",
        "a"
      ],
      "execution_count": 119,
      "outputs": [
        {
          "output_type": "execute_result",
          "data": {
            "text/plain": [
              "6    11\n",
              "1    10\n",
              "5     9\n",
              "3     9\n",
              "4     8\n",
              "2     8\n",
              "Name: month, dtype: int64"
            ]
          },
          "metadata": {
            "tags": []
          },
          "execution_count": 119
        }
      ]
    },
    {
      "cell_type": "markdown",
      "metadata": {
        "colab_type": "text",
        "id": "fbKwqnPRdHzQ"
      },
      "source": [
        "Em suma, apesar de ter uma grande percentagem de voos atrasados, parecendo indicar ser um bom aeroporto para nos focarmos na análise, este representa apenas uma pequena percentagem de todos os voos. Dessa forma, acabando por não ter significância para as nossas análises.\n",
        "<br><br>\n",
        "<div class=\"alert alert-success\">\n",
        "Q.5<br>\n",
        "    Para <b>voos cancelados</b>, apresente um plot - à sua escolha - com a distribuição da coluna <code>cancellation_reason</code>.\n",
        "</div>"
      ]
    },
    {
      "cell_type": "code",
      "metadata": {
        "colab_type": "code",
        "id": "pSRmbseDdHzT",
        "outputId": "075ed912-3c87-4afa-a3a3-be4bfe1d926e",
        "colab": {
          "base_uri": "https://localhost:8080/",
          "height": 501
        }
      },
      "source": [
        "# cancellation_reason distribution plot\n",
        "\n",
        "from collections import Counter\n",
        "\n",
        "flights_copy = flights.copy()\n",
        "\n",
        "cancellation_reason = flights_copy.dropna(subset=['cancellation_reason'])['cancellation_reason']\n",
        "counts = Counter(cancellation_reason)\n",
        "\n",
        "df = DataFrame.from_dict(counts, orient='index')\n",
        "df.plot(kind='bar')"
      ],
      "execution_count": 120,
      "outputs": [
        {
          "output_type": "execute_result",
          "data": {
            "text/plain": [
              "<matplotlib.axes._subplots.AxesSubplot at 0x7f8b3d0a9160>"
            ]
          },
          "metadata": {
            "tags": []
          },
          "execution_count": 120
        },
        {
          "output_type": "display_data",
          "data": {
            "image/png": "[encoded data removed]",
            "text/plain": [
              "<Figure size 864x576 with 1 Axes>"
            ]
          },
          "metadata": {
            "tags": []
          }
        }
      ]
    },
    {
      "cell_type": "markdown",
      "metadata": {
        "colab_type": "text",
        "id": "SOV2t73AdHzu"
      },
      "source": [
        "De seguida iremos analisar, para cada companhia aérea, a percentagem de voos cancelados.\n",
        "<br><br>\n",
        "<div class=\"alert alert-success\">\n",
        "Q.6 <br>\n",
        "    Construa o dataframe <code>g</code>, onde para cada <code>airline</code> tem uma coluna com o número de voos cancelados e uma coluna com o total de voos.\n",
        "</div>"
      ]
    },
    {
      "cell_type": "code",
      "metadata": {
        "colab_type": "code",
        "id": "InHJ9xBFdHz3",
        "outputId": "aebdbfa2-363d-4ddc-e48a-0205e2c51f54",
        "colab": {
          "base_uri": "https://localhost:8080/",
          "height": 511
        }
      },
      "source": [
        "data = [flights.cancelled] \n",
        "  \n",
        "g = pd.DataFrame(columns=['cancelled_flights', 'total_flights'], index=flights.airline.unique())\n",
        "g.cancelled_flights = flights.airline[flights.cancelled==1].value_counts()\n",
        "g.total_flights = flights.airline.value_counts()\n",
        "\n",
        "\n",
        "#g.columns = ['cancelled_flights', 'total_flights']\n",
        "g.cancelled_flights = g.cancelled_flights / g.cancelled_flights.sum()\n",
        "g.total_flights = g.total_flights / g.total_flights.sum()\n",
        "\n",
        "g.plot.bar()"
      ],
      "execution_count": 121,
      "outputs": [
        {
          "output_type": "execute_result",
          "data": {
            "text/plain": [
              "<matplotlib.axes._subplots.AxesSubplot at 0x7f8b3d405048>"
            ]
          },
          "metadata": {
            "tags": []
          },
          "execution_count": 121
        },
        {
          "output_type": "display_data",
          "data": {
            "image/png": "[encoded data removed]",
            "text/plain": [
              "<Figure size 864x576 with 1 Axes>"
            ]
          },
          "metadata": {
            "tags": []
          }
        }
      ]
    },
    {
      "cell_type": "code",
      "metadata": {
        "colab_type": "code",
        "id": "ncXHhvzgdH0C",
        "outputId": "35b6196a-f23d-4f1b-e0ff-283c42805bc3",
        "colab": {
          "base_uri": "https://localhost:8080/",
          "height": 512
        }
      },
      "source": [
        "# the bar plot should be similar to this plot\n",
        "\n",
        "from IPython.display import display, HTML\n",
        "display(HTML('''\n",
        "<img src=\"data:image/png;base64,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&#10\">\n",
        "'''))"
      ],
      "execution_count": 122,
      "outputs": [
        {
          "output_type": "display_data",
          "data": {
            "text/html": [
              "\n",
              "<img src=\"data:image/png;base64,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&#10\">\n"
            ],
            "text/plain": [
              "<IPython.core.display.HTML object>"
            ]
          },
          "metadata": {
            "tags": []
          }
        }
      ]
    },
    {
      "cell_type": "markdown",
      "metadata": {
        "colab_type": "text",
        "id": "E_6zSXoldH0g"
      },
      "source": [
        "Com este gráfico verificamos que as companhias aéreas EV e MQ têm, percentualemnte, muito mais voos cancelados do que voos concluídos. Normalmente este tipo de informação é útil para melhorar a performance dos modelos (através de técnicas como one-hot encoding)."
      ]
    },
    {
      "cell_type": "code",
      "metadata": {
        "colab_type": "code",
        "id": "gu4Nof_XdH0q",
        "outputId": "13d7022d-b3f0-49ad-f4be-d2a37ecdc989",
        "colab": {
          "base_uri": "https://localhost:8080/",
          "height": 503
        }
      },
      "source": [
        "# arrival_delay histogram\n",
        "flights.arrival_delay.plot.hist()"
      ],
      "execution_count": 123,
      "outputs": [
        {
          "output_type": "execute_result",
          "data": {
            "text/plain": [
              "<matplotlib.axes._subplots.AxesSubplot at 0x7f8b3422cdd8>"
            ]
          },
          "metadata": {
            "tags": []
          },
          "execution_count": 123
        },
        {
          "output_type": "display_data",
          "data": {
            "image/png": "[encoded data removed]",
            "text/plain": [
              "<Figure size 864x576 with 1 Axes>"
            ]
          },
          "metadata": {
            "tags": []
          }
        }
      ]
    },
    {
      "cell_type": "markdown",
      "metadata": {
        "colab_type": "text",
        "id": "zzLCEG0AdH01"
      },
      "source": [
        "Analisando o histograma do campo `arrival_delay` podemos logo observar que grande maioria dos valores está concentrada numa região. A este tipo de gráficos costuma-se chamar de long tail distribution.\n",
        "<br><br> \n",
        "Uma maneira de melhor analisar este tipo de gráficos é agrupar todos os valores acima de um determinado percentil, de forma ao histograma criar mais bins na zona que nos interessa analisar.\n",
        "<br><br>\n",
        "<div class=\"alert alert-success\">\n",
        "Q.7<br>\n",
        "    Sendo <code>p</code> o valor do percentil 95% da coluna <code>arrival_delay</code>.\n",
        "    <br><br>\n",
        "    Crie a coluna <code>arrival_delay_copy</code> (cópia da coluna <code>arrival_delay</code>) de forma a que todos os seus valores acima de <code>p</code>, sejam convertidos para <code>p+1</code> e construa um histograma com 20 bins.\n",
        "    <br><br>\n",
        "    <span class=\"badge\">Nota:</span> Para alterar um subconjunto de uma coluna do dataframe é aconselhado usar o método <code>loc</code>.\n",
        "    <br><br>\n",
        "    <span class=\"badge\">Nota:</span> O método <code>pd.cut</code> poderia ser usado para definir as bins e usava-se um gráfico de barras para simular o histograma. Como?\n",
        "</div>"
      ]
    },
    {
      "cell_type": "code",
      "metadata": {
        "colab_type": "code",
        "id": "yS1-7jVadH06",
        "outputId": "f710817e-6949-4b77-84e2-a5478d8ea79d",
        "colab": {
          "base_uri": "https://localhost:8080/",
          "height": 503
        }
      },
      "source": [
        "# histogram of arrival delay, where we grouped all values > 95% quantile\n",
        "\n",
        "flights['arrival_delay_copy'] = flights.arrival_delay.copy()\n",
        "\n",
        "# 95% quantile\n",
        "p = flights['arrival_delay_copy'].quantile(0.95)\n",
        "\n",
        "\n",
        "flights.loc[p,'arrival_delay_copy'] = p+1\n",
        "flights.arrival_delay_copy.plot.hist(bins=20)"
      ],
      "execution_count": 124,
      "outputs": [
        {
          "output_type": "execute_result",
          "data": {
            "text/plain": [
              "<matplotlib.axes._subplots.AxesSubplot at 0x7f8b4167d898>"
            ]
          },
          "metadata": {
            "tags": []
          },
          "execution_count": 124
        },
        {
          "output_type": "display_data",
          "data": {
            "image/png": "[encoded data removed]",
            "text/plain": [
              "<Figure size 864x576 with 1 Axes>"
            ]
          },
          "metadata": {
            "tags": []
          }
        }
      ]
    },
    {
      "cell_type": "markdown",
      "metadata": {
        "colab_type": "text",
        "id": "9zKwdej1dH1N"
      },
      "source": [
        "Agora percebe-se muito melhor a distribuição desta coluna."
      ]
    },
    {
      "cell_type": "markdown",
      "metadata": {
        "colab_type": "text",
        "id": "Gz_fIsXLdH1Q"
      },
      "source": [
        "#### 1.2 Análise temporal"
      ]
    },
    {
      "cell_type": "markdown",
      "metadata": {
        "colab_type": "text",
        "id": "Q_XBnAiTdH1U"
      },
      "source": [
        "Para a nossa análise temporal vamos começar por colocar a data como índice."
      ]
    },
    {
      "cell_type": "code",
      "metadata": {
        "colab_type": "code",
        "id": "Ca33dMhWdH1Y",
        "colab": {}
      },
      "source": [
        "flights.set_index('date', inplace=True, drop=False)\n",
        "flights.index.names = ['date_index'] # avoid ambiguitiy with column 'date'"
      ],
      "execution_count": 0,
      "outputs": []
    },
    {
      "cell_type": "markdown",
      "metadata": {
        "colab_type": "text",
        "id": "fM_LsyJUdH1j"
      },
      "source": [
        "<div class=\"alert alert-success\">\n",
        "Q.8<br>\n",
        "    Para os meses de Janeiro e Fevereiro, mostre um plot com o número de voos por dia.\n",
        "    <br><br> \n",
        "    <span class=\"badge\">Nota:</span> para filtrar os meses use slicing de datas no índice (aula 5, secção 2.3)\n",
        "</div>"
      ]
    },
    {
      "cell_type": "code",
      "metadata": {
        "colab_type": "code",
        "id": "67OjLIwTdH1n",
        "outputId": "aa3581c6-8254-4f0f-b86c-19d1c1a4bd2c",
        "colab": {
          "base_uri": "https://localhost:8080/",
          "height": 516
        }
      },
      "source": [
        "import matplotlib.pyplot as plt\n",
        "from pandas import datetime as dt\n",
        "# daily flights \n",
        "\n",
        "start_date = flights.index.searchsorted(dt(2015, 1, 1))\n",
        "end_date = flights.index.searchsorted(dt(2015, 2, 28))\n",
        "\n",
        "jan_feb = flights[start_date:end_date]\n",
        "\n",
        "flights_per_day = jan_feb.groupby(jan_feb.index.date).count()['day']\n",
        "\n",
        "flights_per_day.plot()\n",
        "plt.title(\"Number of flights per day of week\")\n",
        "\n",
        "\n"
      ],
      "execution_count": 126,
      "outputs": [
        {
          "output_type": "execute_result",
          "data": {
            "text/plain": [
              "Text(0.5, 1.0, 'Number of flights per day of week')"
            ]
          },
          "metadata": {
            "tags": []
          },
          "execution_count": 126
        },
        {
          "output_type": "display_data",
          "data": {
            "image/png": "[encoded data removed]",
            "text/plain": [
              "<Figure size 864x576 with 1 Axes>"
            ]
          },
          "metadata": {
            "tags": []
          }
        }
      ]
    },
    {
      "cell_type": "markdown",
      "metadata": {
        "colab_type": "text",
        "id": "SMbWTrh0dH1x"
      },
      "source": [
        "Ao analisar a distribuição do número de voos por dia, podemos observar que parece have periodicidade no decréscimo do número de voos, será o fim de semana?\n",
        "<br><br>\n",
        "<div class=\"alert alert-success\">\n",
        "Q.9 <br>\n",
        "    Adicione a coluna <code>day_of_week</code> com o dia da semana do ano e mostre um plot com o número de voos por dia da semana (neste já poderemos usar a totalidade dos meses).\n",
        "</div>"
      ]
    },
    {
      "cell_type": "code",
      "metadata": {
        "colab_type": "code",
        "id": "FdBAf-oKdH13",
        "outputId": "7abcaf47-c4c3-492f-bdef-fb6bc3c877e3",
        "colab": {
          "base_uri": "https://localhost:8080/",
          "height": 515
        }
      },
      "source": [
        "flights['day_of_week'] = flights.index.weekday\n",
        "flights.groupby('day_of_week').is_delayed.count().plot.bar()"
      ],
      "execution_count": 127,
      "outputs": [
        {
          "output_type": "execute_result",
          "data": {
            "text/plain": [
              "<matplotlib.axes._subplots.AxesSubplot at 0x7f8b3d06bac8>"
            ]
          },
          "metadata": {
            "tags": []
          },
          "execution_count": 127
        },
        {
          "output_type": "display_data",
          "data": {
            "image/png": "[encoded data removed]",
            "text/plain": [
              "<Figure size 864x576 with 1 Axes>"
            ]
          },
          "metadata": {
            "tags": []
          }
        }
      ]
    },
    {
      "cell_type": "markdown",
      "metadata": {
        "colab_type": "text",
        "id": "STxkI02zdH2k"
      },
      "source": [
        "Parece que o dia da semana com menos voos é o sábado!\n",
        "<br><br>\n",
        "<div class=\"alert alert-success\">\n",
        "Q.10<br>\n",
        "    Transforme o gráfico anterior em percentagem e adicione uma barra com a percentagem de voos atrasados por dia da semana.\n",
        "</div>"
      ]
    },
    {
      "cell_type": "code",
      "metadata": {
        "colab_type": "code",
        "id": "8keqmLODdH2n",
        "colab": {
          "base_uri": "https://localhost:8080/",
          "height": 996
        },
        "outputId": "00926aac-2275-467f-df07-9ba79010526c"
      },
      "source": [
        "g = flights.groupby('day_of_week').is_delayed.agg(['sum','count'])\n",
        "g.columns = ['delayed', 'flights']\n",
        "\n",
        "# transfrom g to percentage here\n",
        "\n",
        "g['delayed_percent'] = (g.delayed / g.flights)*100\n",
        "ax = g.delayed_percent.plot.bar()\n",
        "ax.set_ylabel(r'delayed flights (%)')\n",
        "\n",
        "\n",
        "\n",
        "g.plot.bar()"
      ],
      "execution_count": 128,
      "outputs": [
        {
          "output_type": "execute_result",
          "data": {
            "text/plain": [
              "<matplotlib.axes._subplots.AxesSubplot at 0x7f8b41718a58>"
            ]
          },
          "metadata": {
            "tags": []
          },
          "execution_count": 128
        },
        {
          "output_type": "display_data",
          "data": {
            "image/png": "[encoded data removed]",
            "text/plain": [
              "<Figure size 864x576 with 1 Axes>"
            ]
          },
          "metadata": {
            "tags": []
          }
        },
        {
          "output_type": "display_data",
          "data": {
            "image/png": "[encoded data removed]",
            "text/plain": [
              "<Figure size 864x576 with 1 Axes>"
            ]
          },
          "metadata": {
            "tags": []
          }
        }
      ]
    },
    {
      "cell_type": "markdown",
      "metadata": {
        "colab_type": "text",
        "id": "LxQYhkzOdH3A"
      },
      "source": [
        "<div class=\"alert alert-success\">\n",
        "Q.11<br>\n",
        "    Utilizando o método <code>pivot_table</code> construa um dataframe com a percentagem de voos atrasados por airline (índice das colunas) para cada dia da semana (índice das linhas).\n",
        "</div>"
      ]
    },
    {
      "cell_type": "code",
      "metadata": {
        "colab_type": "code",
        "id": "etJrqmJDdH3a",
        "colab": {
          "base_uri": "https://localhost:8080/",
          "height": 297
        },
        "outputId": "be1d1ff3-9f8f-477d-ba5d-4372cf32527f"
      },
      "source": [
        "# the pivot_table should have this format\n",
        "#\n",
        "# airline        AA    AS    B6    DL    EV    F9    HA    MQ    NK    OO    UA    US    VX    WN\n",
        "# day_of_week                                                                                    \n",
        "# 0           0.238 0.134 0.282 0.170 0.238 0.333 0.095 0.277 0.351 0.206 0.252 0.195 0.230 0.212\n",
        "# 1           0.174 0.110 0.221 0.158 0.213 0.272 0.080 0.249 0.321 0.183 0.222 0.185 0.168 0.182\n",
        "# 2           0.183 0.110 0.183 0.134 0.212 0.332 0.107 0.243 0.284 0.191 0.202 0.159 0.133 0.174\n",
        "# 3           0.213 0.128 0.226 0.156 0.220 0.322 0.129 0.264 0.297 0.192 0.254 0.196 0.206 0.215\n",
        "# 4           0.223 0.145 0.221 0.153 0.210 0.314 0.168 0.281 0.324 0.195 0.240 0.195 0.215 0.222\n",
        "# 5           0.191 0.110 0.204 0.121 0.167 0.287 0.129 0.194 0.296 0.152 0.200 0.167 0.120 0.165\n",
        "# 6           0.218 0.138 0.231 0.137 0.213 0.314 0.089 0.255 0.340 0.199 0.237 0.186 0.232 0.205\n",
        "\n",
        "import pandas as pd\n",
        "\n",
        "\n",
        "delayed_by_airline_percent = pd.pivot_table(flights, index='day_of_week', columns='airline', values='is_delayed')\n",
        "delayed_by_airline_percent.sort_index()\n",
        "\n",
        "\n"
      ],
      "execution_count": 129,
      "outputs": [
        {
          "output_type": "execute_result",
          "data": {
            "text/html": [
              "<div>\n",
              "<style scoped>\n",
              "    .dataframe tbody tr th:only-of-type {\n",
              "        vertical-align: middle;\n",
              "    }\n",
              "\n",
              "    .dataframe tbody tr th {\n",
              "        vertical-align: top;\n",
              "    }\n",
              "\n",
              "    .dataframe thead th {\n",
              "        text-align: right;\n",
              "    }\n",
              "</style>\n",
              "<table border=\"1\" class=\"dataframe\">\n",
              "  <thead>\n",
              "    <tr style=\"text-align: right;\">\n",
              "      <th>airline</th>\n",
              "      <th>AA</th>\n",
              "      <th>AS</th>\n",
              "      <th>B6</th>\n",
              "      <th>DL</th>\n",
              "      <th>EV</th>\n",
              "      <th>F9</th>\n",
              "      <th>HA</th>\n",
              "      <th>MQ</th>\n",
              "      <th>NK</th>\n",
              "      <th>OO</th>\n",
              "      <th>UA</th>\n",
              "      <th>US</th>\n",
              "      <th>VX</th>\n",
              "      <th>WN</th>\n",
              "    </tr>\n",
              "    <tr>\n",
              "      <th>day_of_week</th>\n",
              "      <th></th>\n",
              "      <th></th>\n",
              "      <th></th>\n",
              "      <th></th>\n",
              "      <th></th>\n",
              "      <th></th>\n",
              "      <th></th>\n",
              "      <th></th>\n",
              "      <th></th>\n",
              "      <th></th>\n",
              "      <th></th>\n",
              "      <th></th>\n",
              "      <th></th>\n",
              "      <th></th>\n",
              "    </tr>\n",
              "  </thead>\n",
              "  <tbody>\n",
              "    <tr>\n",
              "      <th>0</th>\n",
              "      <td>0.238</td>\n",
              "      <td>0.134</td>\n",
              "      <td>0.282</td>\n",
              "      <td>0.170</td>\n",
              "      <td>0.238</td>\n",
              "      <td>0.333</td>\n",
              "      <td>0.095</td>\n",
              "      <td>0.277</td>\n",
              "      <td>0.351</td>\n",
              "      <td>0.206</td>\n",
              "      <td>0.252</td>\n",
              "      <td>0.195</td>\n",
              "      <td>0.230</td>\n",
              "      <td>0.212</td>\n",
              "    </tr>\n",
              "    <tr>\n",
              "      <th>1</th>\n",
              "      <td>0.174</td>\n",
              "      <td>0.110</td>\n",
              "      <td>0.221</td>\n",
              "      <td>0.158</td>\n",
              "      <td>0.213</td>\n",
              "      <td>0.272</td>\n",
              "      <td>0.080</td>\n",
              "      <td>0.249</td>\n",
              "      <td>0.321</td>\n",
              "      <td>0.183</td>\n",
              "      <td>0.222</td>\n",
              "      <td>0.185</td>\n",
              "      <td>0.168</td>\n",
              "      <td>0.182</td>\n",
              "    </tr>\n",
              "    <tr>\n",
              "      <th>2</th>\n",
              "      <td>0.183</td>\n",
              "      <td>0.110</td>\n",
              "      <td>0.183</td>\n",
              "      <td>0.134</td>\n",
              "      <td>0.212</td>\n",
              "      <td>0.332</td>\n",
              "      <td>0.107</td>\n",
              "      <td>0.243</td>\n",
              "      <td>0.284</td>\n",
              "      <td>0.191</td>\n",
              "      <td>0.202</td>\n",
              "      <td>0.159</td>\n",
              "      <td>0.133</td>\n",
              "      <td>0.174</td>\n",
              "    </tr>\n",
              "    <tr>\n",
              "      <th>3</th>\n",
              "      <td>0.213</td>\n",
              "      <td>0.128</td>\n",
              "      <td>0.226</td>\n",
              "      <td>0.156</td>\n",
              "      <td>0.220</td>\n",
              "      <td>0.322</td>\n",
              "      <td>0.129</td>\n",
              "      <td>0.264</td>\n",
              "      <td>0.297</td>\n",
              "      <td>0.192</td>\n",
              "      <td>0.254</td>\n",
              "      <td>0.196</td>\n",
              "      <td>0.206</td>\n",
              "      <td>0.215</td>\n",
              "    </tr>\n",
              "    <tr>\n",
              "      <th>4</th>\n",
              "      <td>0.223</td>\n",
              "      <td>0.145</td>\n",
              "      <td>0.221</td>\n",
              "      <td>0.153</td>\n",
              "      <td>0.210</td>\n",
              "      <td>0.314</td>\n",
              "      <td>0.168</td>\n",
              "      <td>0.281</td>\n",
              "      <td>0.324</td>\n",
              "      <td>0.195</td>\n",
              "      <td>0.240</td>\n",
              "      <td>0.195</td>\n",
              "      <td>0.215</td>\n",
              "      <td>0.222</td>\n",
              "    </tr>\n",
              "    <tr>\n",
              "      <th>5</th>\n",
              "      <td>0.191</td>\n",
              "      <td>0.110</td>\n",
              "      <td>0.204</td>\n",
              "      <td>0.121</td>\n",
              "      <td>0.167</td>\n",
              "      <td>0.287</td>\n",
              "      <td>0.129</td>\n",
              "      <td>0.194</td>\n",
              "      <td>0.296</td>\n",
              "      <td>0.152</td>\n",
              "      <td>0.200</td>\n",
              "      <td>0.167</td>\n",
              "      <td>0.120</td>\n",
              "      <td>0.165</td>\n",
              "    </tr>\n",
              "    <tr>\n",
              "      <th>6</th>\n",
              "      <td>0.218</td>\n",
              "      <td>0.138</td>\n",
              "      <td>0.231</td>\n",
              "      <td>0.137</td>\n",
              "      <td>0.213</td>\n",
              "      <td>0.314</td>\n",
              "      <td>0.089</td>\n",
              "      <td>0.255</td>\n",
              "      <td>0.340</td>\n",
              "      <td>0.199</td>\n",
              "      <td>0.237</td>\n",
              "      <td>0.186</td>\n",
              "      <td>0.232</td>\n",
              "      <td>0.205</td>\n",
              "    </tr>\n",
              "  </tbody>\n",
              "</table>\n",
              "</div>"
            ],
            "text/plain": [
              "airline        AA    AS    B6    DL    EV    F9    HA    MQ    NK    OO    UA  \\\n",
              "day_of_week                                                                     \n",
              "0           0.238 0.134 0.282 0.170 0.238 0.333 0.095 0.277 0.351 0.206 0.252   \n",
              "1           0.174 0.110 0.221 0.158 0.213 0.272 0.080 0.249 0.321 0.183 0.222   \n",
              "2           0.183 0.110 0.183 0.134 0.212 0.332 0.107 0.243 0.284 0.191 0.202   \n",
              "3           0.213 0.128 0.226 0.156 0.220 0.322 0.129 0.264 0.297 0.192 0.254   \n",
              "4           0.223 0.145 0.221 0.153 0.210 0.314 0.168 0.281 0.324 0.195 0.240   \n",
              "5           0.191 0.110 0.204 0.121 0.167 0.287 0.129 0.194 0.296 0.152 0.200   \n",
              "6           0.218 0.138 0.231 0.137 0.213 0.314 0.089 0.255 0.340 0.199 0.237   \n",
              "\n",
              "airline        US    VX    WN  \n",
              "day_of_week                    \n",
              "0           0.195 0.230 0.212  \n",
              "1           0.185 0.168 0.182  \n",
              "2           0.159 0.133 0.174  \n",
              "3           0.196 0.206 0.215  \n",
              "4           0.195 0.215 0.222  \n",
              "5           0.167 0.120 0.165  \n",
              "6           0.186 0.232 0.205  "
            ]
          },
          "metadata": {
            "tags": []
          },
          "execution_count": 129
        }
      ]
    },
    {
      "cell_type": "markdown",
      "metadata": {
        "colab_type": "text",
        "id": "fot6G_oWdH3r"
      },
      "source": [
        "#### 1.3 Considerando informação de contexto"
      ]
    },
    {
      "cell_type": "markdown",
      "metadata": {
        "colab_type": "text",
        "id": "O2LFFCCedH3u"
      },
      "source": [
        "A informação de contexto que será usada é a presente no dataframe `airports`, pois podemos adicionar várias informações úteis relativas aos aeroportos de partida e chegada do voo.\n",
        "<br><br>\n",
        "<div class=\"alert alert-success\">\n",
        "Q.12<br>\n",
        "    Crie o dataframe <code>flights_context_info</code> com base no dataframe <code>flights</code> onde se adiciona todas as colunas do dataframe <code>airports</code> como informação de contexto para a coluna <code>origin_airpot</code>. Adicione também a mesma informação de contexto para a coluna <code>destination_airport</code>.\n",
        "</div>"
      ]
    },
    {
      "cell_type": "code",
      "metadata": {
        "colab_type": "code",
        "id": "Lphu_hAsdH3z",
        "colab": {
          "base_uri": "https://localhost:8080/",
          "height": 213
        },
        "outputId": "02ba05f7-c4e2-42c5-e510-ca8648d1419b"
      },
      "source": [
        "  \n",
        "  \n",
        "flights_context_info = pd.DataFrame(flights, columns=airports.columns)\n",
        "\n",
        "\n",
        "# selecting necessary fields\n",
        "airports = airports[['iata_code', 'city', 'state']]\n",
        "\n",
        "\n",
        "flights_tmp = pd.merge(flights, airports, left_on='origin_airport', right_on='iata_code') # add origin_airport context information\n",
        "\n",
        "\n",
        "flights_context_info = pd.merge(flights_tmp, airports, left_on='destination_airport', right_on='iata_code') # add destination_airport context information\n",
        "\n",
        "flights_context_info.head(3)\n",
        "\n",
        "# free up RAM\n",
        "#del flights_tmp"
      ],
      "execution_count": 130,
      "outputs": [
        {
          "output_type": "execute_result",
          "data": {
            "text/html": [
              "<div>\n",
              "<style scoped>\n",
              "    .dataframe tbody tr th:only-of-type {\n",
              "        vertical-align: middle;\n",
              "    }\n",
              "\n",
              "    .dataframe tbody tr th {\n",
              "        vertical-align: top;\n",
              "    }\n",
              "\n",
              "    .dataframe thead th {\n",
              "        text-align: right;\n",
              "    }\n",
              "</style>\n",
              "<table border=\"1\" class=\"dataframe\">\n",
              "  <thead>\n",
              "    <tr style=\"text-align: right;\">\n",
              "      <th></th>\n",
              "      <th>year</th>\n",
              "      <th>month</th>\n",
              "      <th>day</th>\n",
              "      <th>airline</th>\n",
              "      <th>origin_airport</th>\n",
              "      <th>destination_airport</th>\n",
              "      <th>scheduled_departure</th>\n",
              "      <th>departure_delay</th>\n",
              "      <th>scheduled_time</th>\n",
              "      <th>elapsed_time</th>\n",
              "      <th>air_time</th>\n",
              "      <th>distance</th>\n",
              "      <th>arrival_delay</th>\n",
              "      <th>cancelled</th>\n",
              "      <th>cancellation_reason</th>\n",
              "      <th>air_system_delay</th>\n",
              "      <th>security_delay</th>\n",
              "      <th>airline_delay</th>\n",
              "      <th>late_aircraft_delay</th>\n",
              "      <th>weather_delay</th>\n",
              "      <th>is_delayed</th>\n",
              "      <th>date</th>\n",
              "      <th>arrival_delay_copy</th>\n",
              "      <th>day_of_week</th>\n",
              "      <th>iata_code_x</th>\n",
              "      <th>city_x</th>\n",
              "      <th>state_x</th>\n",
              "      <th>iata_code_y</th>\n",
              "      <th>city_y</th>\n",
              "      <th>state_y</th>\n",
              "    </tr>\n",
              "  </thead>\n",
              "  <tbody>\n",
              "    <tr>\n",
              "      <th>0</th>\n",
              "      <td>2015</td>\n",
              "      <td>1</td>\n",
              "      <td>1</td>\n",
              "      <td>AS</td>\n",
              "      <td>ANC</td>\n",
              "      <td>SEA</td>\n",
              "      <td>5</td>\n",
              "      <td>-11.000</td>\n",
              "      <td>205.000</td>\n",
              "      <td>194.000</td>\n",
              "      <td>169.000</td>\n",
              "      <td>1448</td>\n",
              "      <td>-22.000</td>\n",
              "      <td>0</td>\n",
              "      <td>NaN</td>\n",
              "      <td>nan</td>\n",
              "      <td>nan</td>\n",
              "      <td>nan</td>\n",
              "      <td>nan</td>\n",
              "      <td>nan</td>\n",
              "      <td>False</td>\n",
              "      <td>2015-01-01</td>\n",
              "      <td>-22.000</td>\n",
              "      <td>3</td>\n",
              "      <td>ANC</td>\n",
              "      <td>Anchorage</td>\n",
              "      <td>AK</td>\n",
              "      <td>SEA</td>\n",
              "      <td>Seattle</td>\n",
              "      <td>WA</td>\n",
              "    </tr>\n",
              "    <tr>\n",
              "      <th>1</th>\n",
              "      <td>2015</td>\n",
              "      <td>1</td>\n",
              "      <td>1</td>\n",
              "      <td>AS</td>\n",
              "      <td>ANC</td>\n",
              "      <td>SEA</td>\n",
              "      <td>45</td>\n",
              "      <td>-4.000</td>\n",
              "      <td>204.000</td>\n",
              "      <td>194.000</td>\n",
              "      <td>173.000</td>\n",
              "      <td>1448</td>\n",
              "      <td>-14.000</td>\n",
              "      <td>0</td>\n",
              "      <td>NaN</td>\n",
              "      <td>nan</td>\n",
              "      <td>nan</td>\n",
              "      <td>nan</td>\n",
              "      <td>nan</td>\n",
              "      <td>nan</td>\n",
              "      <td>False</td>\n",
              "      <td>2015-01-01</td>\n",
              "      <td>-14.000</td>\n",
              "      <td>3</td>\n",
              "      <td>ANC</td>\n",
              "      <td>Anchorage</td>\n",
              "      <td>AK</td>\n",
              "      <td>SEA</td>\n",
              "      <td>Seattle</td>\n",
              "      <td>WA</td>\n",
              "    </tr>\n",
              "    <tr>\n",
              "      <th>2</th>\n",
              "      <td>2015</td>\n",
              "      <td>1</td>\n",
              "      <td>1</td>\n",
              "      <td>DL</td>\n",
              "      <td>ANC</td>\n",
              "      <td>SEA</td>\n",
              "      <td>45</td>\n",
              "      <td>-14.000</td>\n",
              "      <td>210.000</td>\n",
              "      <td>200.000</td>\n",
              "      <td>171.000</td>\n",
              "      <td>1448</td>\n",
              "      <td>-24.000</td>\n",
              "      <td>0</td>\n",
              "      <td>NaN</td>\n",
              "      <td>nan</td>\n",
              "      <td>nan</td>\n",
              "      <td>nan</td>\n",
              "      <td>nan</td>\n",
              "      <td>nan</td>\n",
              "      <td>False</td>\n",
              "      <td>2015-01-01</td>\n",
              "      <td>-24.000</td>\n",
              "      <td>3</td>\n",
              "      <td>ANC</td>\n",
              "      <td>Anchorage</td>\n",
              "      <td>AK</td>\n",
              "      <td>SEA</td>\n",
              "      <td>Seattle</td>\n",
              "      <td>WA</td>\n",
              "    </tr>\n",
              "  </tbody>\n",
              "</table>\n",
              "</div>"
            ],
            "text/plain": [
              "   year  month  day airline origin_airport destination_airport  \\\n",
              "0  2015      1    1      AS            ANC                 SEA   \n",
              "1  2015      1    1      AS            ANC                 SEA   \n",
              "2  2015      1    1      DL            ANC                 SEA   \n",
              "\n",
              "   scheduled_departure  departure_delay  scheduled_time  elapsed_time  \\\n",
              "0                    5          -11.000         205.000       194.000   \n",
              "1                   45           -4.000         204.000       194.000   \n",
              "2                   45          -14.000         210.000       200.000   \n",
              "\n",
              "   air_time  distance  arrival_delay  cancelled cancellation_reason  \\\n",
              "0   169.000      1448        -22.000          0                 NaN   \n",
              "1   173.000      1448        -14.000          0                 NaN   \n",
              "2   171.000      1448        -24.000          0                 NaN   \n",
              "\n",
              "   air_system_delay  security_delay  airline_delay  late_aircraft_delay  \\\n",
              "0               nan             nan            nan                  nan   \n",
              "1               nan             nan            nan                  nan   \n",
              "2               nan             nan            nan                  nan   \n",
              "\n",
              "   weather_delay  is_delayed       date  arrival_delay_copy  day_of_week  \\\n",
              "0            nan       False 2015-01-01             -22.000            3   \n",
              "1            nan       False 2015-01-01             -14.000            3   \n",
              "2            nan       False 2015-01-01             -24.000            3   \n",
              "\n",
              "  iata_code_x     city_x state_x iata_code_y   city_y state_y  \n",
              "0         ANC  Anchorage      AK         SEA  Seattle      WA  \n",
              "1         ANC  Anchorage      AK         SEA  Seattle      WA  \n",
              "2         ANC  Anchorage      AK         SEA  Seattle      WA  "
            ]
          },
          "metadata": {
            "tags": []
          },
          "execution_count": 130
        }
      ]
    },
    {
      "cell_type": "markdown",
      "metadata": {
        "colab_type": "text",
        "id": "gxjWpFagdH3-"
      },
      "source": [
        "<div class=\"alert alert-success\">\n",
        "Q.13<br>\n",
        "    Calcule o top-10 dos pares (cidades de origem, cidade de destino) com mais voos atrasados (em valor absoluto).\n",
        "</div>"
      ]
    },
    {
      "cell_type": "code",
      "metadata": {
        "colab_type": "code",
        "id": "7-XyEaF9dH4H",
        "colab": {
          "base_uri": "https://localhost:8080/",
          "height": 213
        },
        "outputId": "749ccf32-b807-4c15-fc20-ab345c914bf1"
      },
      "source": [
        "flights_context_info['ori-dst'] = flights_context_info[['city_x', 'city_y']].apply(lambda x: '-'.join(x) , axis = 1) \n",
        "\n",
        "flights_context_info.groupby('ori-dst').is_delayed.sum().sort_values(ascending=False).head(10)\n",
        "\n",
        "flights_context_info.head(3)\n",
        "\n"
      ],
      "execution_count": 131,
      "outputs": [
        {
          "output_type": "execute_result",
          "data": {
            "text/html": [
              "<div>\n",
              "<style scoped>\n",
              "    .dataframe tbody tr th:only-of-type {\n",
              "        vertical-align: middle;\n",
              "    }\n",
              "\n",
              "    .dataframe tbody tr th {\n",
              "        vertical-align: top;\n",
              "    }\n",
              "\n",
              "    .dataframe thead th {\n",
              "        text-align: right;\n",
              "    }\n",
              "</style>\n",
              "<table border=\"1\" class=\"dataframe\">\n",
              "  <thead>\n",
              "    <tr style=\"text-align: right;\">\n",
              "      <th></th>\n",
              "      <th>year</th>\n",
              "      <th>month</th>\n",
              "      <th>day</th>\n",
              "      <th>airline</th>\n",
              "      <th>origin_airport</th>\n",
              "      <th>destination_airport</th>\n",
              "      <th>scheduled_departure</th>\n",
              "      <th>departure_delay</th>\n",
              "      <th>scheduled_time</th>\n",
              "      <th>elapsed_time</th>\n",
              "      <th>air_time</th>\n",
              "      <th>distance</th>\n",
              "      <th>arrival_delay</th>\n",
              "      <th>cancelled</th>\n",
              "      <th>cancellation_reason</th>\n",
              "      <th>air_system_delay</th>\n",
              "      <th>security_delay</th>\n",
              "      <th>airline_delay</th>\n",
              "      <th>late_aircraft_delay</th>\n",
              "      <th>weather_delay</th>\n",
              "      <th>is_delayed</th>\n",
              "      <th>date</th>\n",
              "      <th>arrival_delay_copy</th>\n",
              "      <th>day_of_week</th>\n",
              "      <th>iata_code_x</th>\n",
              "      <th>city_x</th>\n",
              "      <th>state_x</th>\n",
              "      <th>iata_code_y</th>\n",
              "      <th>city_y</th>\n",
              "      <th>state_y</th>\n",
              "      <th>ori-dst</th>\n",
              "    </tr>\n",
              "  </thead>\n",
              "  <tbody>\n",
              "    <tr>\n",
              "      <th>0</th>\n",
              "      <td>2015</td>\n",
              "      <td>1</td>\n",
              "      <td>1</td>\n",
              "      <td>AS</td>\n",
              "      <td>ANC</td>\n",
              "      <td>SEA</td>\n",
              "      <td>5</td>\n",
              "      <td>-11.000</td>\n",
              "      <td>205.000</td>\n",
              "      <td>194.000</td>\n",
              "      <td>169.000</td>\n",
              "      <td>1448</td>\n",
              "      <td>-22.000</td>\n",
              "      <td>0</td>\n",
              "      <td>NaN</td>\n",
              "      <td>nan</td>\n",
              "      <td>nan</td>\n",
              "      <td>nan</td>\n",
              "      <td>nan</td>\n",
              "      <td>nan</td>\n",
              "      <td>False</td>\n",
              "      <td>2015-01-01</td>\n",
              "      <td>-22.000</td>\n",
              "      <td>3</td>\n",
              "      <td>ANC</td>\n",
              "      <td>Anchorage</td>\n",
              "      <td>AK</td>\n",
              "      <td>SEA</td>\n",
              "      <td>Seattle</td>\n",
              "      <td>WA</td>\n",
              "      <td>Anchorage-Seattle</td>\n",
              "    </tr>\n",
              "    <tr>\n",
              "      <th>1</th>\n",
              "      <td>2015</td>\n",
              "      <td>1</td>\n",
              "      <td>1</td>\n",
              "      <td>AS</td>\n",
              "      <td>ANC</td>\n",
              "      <td>SEA</td>\n",
              "      <td>45</td>\n",
              "      <td>-4.000</td>\n",
              "      <td>204.000</td>\n",
              "      <td>194.000</td>\n",
              "      <td>173.000</td>\n",
              "      <td>1448</td>\n",
              "      <td>-14.000</td>\n",
              "      <td>0</td>\n",
              "      <td>NaN</td>\n",
              "      <td>nan</td>\n",
              "      <td>nan</td>\n",
              "      <td>nan</td>\n",
              "      <td>nan</td>\n",
              "      <td>nan</td>\n",
              "      <td>False</td>\n",
              "      <td>2015-01-01</td>\n",
              "      <td>-14.000</td>\n",
              "      <td>3</td>\n",
              "      <td>ANC</td>\n",
              "      <td>Anchorage</td>\n",
              "      <td>AK</td>\n",
              "      <td>SEA</td>\n",
              "      <td>Seattle</td>\n",
              "      <td>WA</td>\n",
              "      <td>Anchorage-Seattle</td>\n",
              "    </tr>\n",
              "    <tr>\n",
              "      <th>2</th>\n",
              "      <td>2015</td>\n",
              "      <td>1</td>\n",
              "      <td>1</td>\n",
              "      <td>DL</td>\n",
              "      <td>ANC</td>\n",
              "      <td>SEA</td>\n",
              "      <td>45</td>\n",
              "      <td>-14.000</td>\n",
              "      <td>210.000</td>\n",
              "      <td>200.000</td>\n",
              "      <td>171.000</td>\n",
              "      <td>1448</td>\n",
              "      <td>-24.000</td>\n",
              "      <td>0</td>\n",
              "      <td>NaN</td>\n",
              "      <td>nan</td>\n",
              "      <td>nan</td>\n",
              "      <td>nan</td>\n",
              "      <td>nan</td>\n",
              "      <td>nan</td>\n",
              "      <td>False</td>\n",
              "      <td>2015-01-01</td>\n",
              "      <td>-24.000</td>\n",
              "      <td>3</td>\n",
              "      <td>ANC</td>\n",
              "      <td>Anchorage</td>\n",
              "      <td>AK</td>\n",
              "      <td>SEA</td>\n",
              "      <td>Seattle</td>\n",
              "      <td>WA</td>\n",
              "      <td>Anchorage-Seattle</td>\n",
              "    </tr>\n",
              "  </tbody>\n",
              "</table>\n",
              "</div>"
            ],
            "text/plain": [
              "   year  month  day airline origin_airport destination_airport  \\\n",
              "0  2015      1    1      AS            ANC                 SEA   \n",
              "1  2015      1    1      AS            ANC                 SEA   \n",
              "2  2015      1    1      DL            ANC                 SEA   \n",
              "\n",
              "   scheduled_departure  departure_delay  scheduled_time  elapsed_time  \\\n",
              "0                    5          -11.000         205.000       194.000   \n",
              "1                   45           -4.000         204.000       194.000   \n",
              "2                   45          -14.000         210.000       200.000   \n",
              "\n",
              "   air_time  distance  arrival_delay  cancelled cancellation_reason  \\\n",
              "0   169.000      1448        -22.000          0                 NaN   \n",
              "1   173.000      1448        -14.000          0                 NaN   \n",
              "2   171.000      1448        -24.000          0                 NaN   \n",
              "\n",
              "   air_system_delay  security_delay  airline_delay  late_aircraft_delay  \\\n",
              "0               nan             nan            nan                  nan   \n",
              "1               nan             nan            nan                  nan   \n",
              "2               nan             nan            nan                  nan   \n",
              "\n",
              "   weather_delay  is_delayed       date  arrival_delay_copy  day_of_week  \\\n",
              "0            nan       False 2015-01-01             -22.000            3   \n",
              "1            nan       False 2015-01-01             -14.000            3   \n",
              "2            nan       False 2015-01-01             -24.000            3   \n",
              "\n",
              "  iata_code_x     city_x state_x iata_code_y   city_y state_y  \\\n",
              "0         ANC  Anchorage      AK         SEA  Seattle      WA   \n",
              "1         ANC  Anchorage      AK         SEA  Seattle      WA   \n",
              "2         ANC  Anchorage      AK         SEA  Seattle      WA   \n",
              "\n",
              "             ori-dst  \n",
              "0  Anchorage-Seattle  \n",
              "1  Anchorage-Seattle  \n",
              "2  Anchorage-Seattle  "
            ]
          },
          "metadata": {
            "tags": []
          },
          "execution_count": 131
        }
      ]
    },
    {
      "cell_type": "markdown",
      "metadata": {
        "colab_type": "text",
        "id": "kKm0TtqSdH4s"
      },
      "source": [
        "___\n",
        "### 2. Gerar dataset histórico, de treino e de teste\n",
        "___"
      ]
    },
    {
      "cell_type": "markdown",
      "metadata": {
        "colab_type": "text",
        "id": "A6QGmDHadH4w"
      },
      "source": [
        "#### 2.1 Motivação"
      ]
    },
    {
      "cell_type": "markdown",
      "metadata": {
        "colab_type": "text",
        "id": "Vg5_6B0udH40"
      },
      "source": [
        "Normalmente os dados são divididos aleatoriamente nos conjuntos de treino, validação e teste. Contudo, esta abordagem não funciona em alguns domínios devido a uma dependência temporal dos dados. Neste exemplo, o avião `X` pode-se atrasar no voo `Y` devido a um voo anterior `Z`. Assim sendo, não podemos dividir o dataset tal que o voo `Z` vá para treino e o `Y` para teste.\n",
        "<br><br>\n",
        "Dessa forma iremos usar Jan e Feb como dataset histórico, Mar e Abr para treino e Mai e Jun para testes. Não estamos a criar um dataset de validação, porquê?"
      ]
    },
    {
      "cell_type": "markdown",
      "metadata": {
        "colab_type": "text",
        "id": "CTRca4WmdH44"
      },
      "source": [
        "#### 2.2 Construção dos datasets"
      ]
    },
    {
      "cell_type": "markdown",
      "metadata": {
        "colab_type": "text",
        "id": "siRakWmYdH5F"
      },
      "source": [
        "<div class=\"alert alert-success\">\n",
        "    Q.14<br>\n",
        "    Com base nas especificações de 2.1 construa os datasets.\n",
        "</div>"
      ]
    },
    {
      "cell_type": "code",
      "metadata": {
        "colab_type": "code",
        "id": "38U6p0_edH5I",
        "colab": {}
      },
      "source": [
        "hist = flights_context_info[(flights_context_info.month==1) | (flights_context_info.month==2)].copy().reset_index(drop=True)\n",
        "train = flights_context_info[(flights_context_info.month==3) | (flights_context_info.month==4)].copy().reset_index(drop=True)\n",
        "test = flights_context_info[(flights_context_info.month==5) | (flights_context_info.month==6)].copy().reset_index(drop=True)\n",
        "\n",
        "# confirm number of rows per dataset\n",
        "assert len(hist) == 899159\n",
        "assert len(train) == 989463\n",
        "assert len(test) == 1000890"
      ],
      "execution_count": 0,
      "outputs": []
    },
    {
      "cell_type": "markdown",
      "metadata": {
        "colab_type": "text",
        "id": "QIHBrlcodH5U"
      },
      "source": [
        "___\n",
        "### 3. Feature Engineering\n",
        "___"
      ]
    },
    {
      "cell_type": "markdown",
      "metadata": {
        "colab_type": "text",
        "id": "CXupMyEhdH5Y"
      },
      "source": [
        "Neste momento terminámos o DU e contruímos os conjuntos de treino e teste. Ou seja, estamos preparados para adicionar features (novas colunas) e testar o nosso modelo.\n",
        "<br><br>\n",
        "Mas antes vamos remover de memória toda a informação (dataframes e outras variáveis) que já não iremos necessitar."
      ]
    },
    {
      "cell_type": "code",
      "metadata": {
        "colab_type": "code",
        "id": "VdvN_FdadH5w",
        "colab": {}
      },
      "source": [
        "for c in 'airlines airports flights columns_to_remove columns delays g p flights_context_info total_delay'.split():\n",
        "    if c in globals():\n",
        "        del globals()[c] "
      ],
      "execution_count": 0,
      "outputs": []
    },
    {
      "cell_type": "markdown",
      "metadata": {
        "colab_type": "text",
        "id": "IYZqCxhjdH6I"
      },
      "source": [
        "#### 3.1 Usando dados históricos"
      ]
    },
    {
      "cell_type": "markdown",
      "metadata": {
        "colab_type": "text",
        "id": "eKYMhclzdH6L"
      },
      "source": [
        "A ideia do dataset histório é para nos permitir adicionar features ao conjunto de treino e teste, como a percentagem de voos atrasados daquela companhia aérea, usando apenas informação do passado."
      ]
    },
    {
      "cell_type": "markdown",
      "metadata": {
        "colab_type": "text",
        "id": "_oKfmwswdH6Q"
      },
      "source": [
        "<div class=\"alert alert-success\">\n",
        "Q.15<br>\n",
        "    Com base nos dados históricos, adicione a coluna <code>perc_delayed_flights_airline</code> ao treino e teste com a percentagem de voos atrasados da companhia aérea.\n",
        "</div>"
      ]
    },
    {
      "cell_type": "code",
      "metadata": {
        "colab_type": "code",
        "id": "BeP-biiIdH6V",
        "colab": {}
      },
      "source": [
        "delays_airline = hist.groupby('airline').is_delayed.mean().to_dict()\n",
        "delays_airline\n",
        "\n",
        "\n",
        "train['perc_delayed_flights_airline'] = train['airline'].map(delays_airline)\n",
        "\n",
        "test['perc_delayed_flights_airline'] = test['airline'].map(delays_airline)"
      ],
      "execution_count": 0,
      "outputs": []
    },
    {
      "cell_type": "markdown",
      "metadata": {
        "colab_type": "text",
        "id": "BL40Nu4OdH6x"
      },
      "source": [
        "<div class=\"alert alert-success\">\n",
        "Q.16<br>\n",
        "    Com base nos dados históricos, adicione a coluna <code>perc_delayed_flights_route</code> ao treino e teste com a percentagem de voos atrasados por par (cidade de origem, cidade de destino).\n",
        "</div>"
      ]
    },
    {
      "cell_type": "code",
      "metadata": {
        "colab_type": "code",
        "id": "NNVONHOTdH66",
        "colab": {}
      },
      "source": [
        "delays_airline = hist.groupby('ori-dst').is_delayed.mean().to_dict()\n",
        "\n",
        "train['perc_delayed_flights_route'] = train['ori-dst'].map(delays_airline)\n",
        "\n",
        "test['perc_delayed_flights_route'] = test['ori-dst'].map(delays_airline)"
      ],
      "execution_count": 0,
      "outputs": []
    },
    {
      "cell_type": "markdown",
      "metadata": {
        "colab_type": "text",
        "id": "bO5PW8j-dH7d"
      },
      "source": [
        "<div class=\"alert alert-success\">\n",
        "Q.17<br>\n",
        "    Por fim, com base nos dados históricos, adicione as colunas <code>avg_delay_city</code> e <code>avg_delay_airline</code> ao treino e teste com a média de atraso dos voos da cidade de origem e da airline, respectivamente.\n",
        "</div>"
      ]
    },
    {
      "cell_type": "code",
      "metadata": {
        "colab_type": "code",
        "id": "-ekXRQREdH8H",
        "colab": {}
      },
      "source": [
        "avg_delay_city = hist.groupby('city_x').departure_delay.mean().to_dict()\n",
        "avg_delay_airline = hist.groupby('airline').airline_delay.mean().to_dict()\n",
        "\n",
        "# code here\n",
        "\n",
        "train['avg_delay_city'] = train['city_x'].map(avg_delay_city)# code here\n",
        "test['avg_delay_city'] = test['city_x'].map(avg_delay_city)# code here\n",
        "\n",
        "# code here\n",
        "\n",
        "train['avg_delay_airline'] = train['airline'].map(avg_delay_airline)# code here\n",
        "test['avg_delay_airline'] = test['airline'].map(avg_delay_airline) # code here"
      ],
      "execution_count": 0,
      "outputs": []
    },
    {
      "cell_type": "markdown",
      "metadata": {
        "colab_type": "text",
        "id": "giwbgFl0dH84"
      },
      "source": [
        "#### 3.2 Novos campos temporais"
      ]
    },
    {
      "cell_type": "markdown",
      "metadata": {
        "colab_type": "text",
        "id": "ldSHwB2zdH8-"
      },
      "source": [
        "<div class=\"alert alert-success\">\n",
        "Q.18<br>\n",
        "    Como já temos uma coluna com o dia da semana, iremos apenas adicionar as seguintes colunas ao treino e teste:\n",
        "    <ul>\n",
        "        <li><code>is_weekend</code>: 1, se o dia da semana for 5 ou 6, 0 caso contrário</li>\n",
        "        <li><code>is_monday</code>: 1, se o dia da semana for 0, 0 caso contrário</li>\n",
        "        <li><code>is_saturday</code>: 1, se o dia da semana for 5, 0 caso contrário</li>\n",
        "    </ul>\n",
        "</div>"
      ]
    },
    {
      "cell_type": "code",
      "metadata": {
        "colab_type": "code",
        "id": "jgWAI8T9dH9G",
        "colab": {}
      },
      "source": [
        "def add_temporal_features(df):\n",
        "    \n",
        "    df['is_weekend'] = [1 if x == 5 or x == 6 else 0 for x in df.day_of_week]\n",
        "    df['is_monday'] = [1 if x == 0 else 0 for x in df.day_of_week]\n",
        "    df['is_saturday'] = [1 if x == 5 else 0 for x in df.day_of_week]\n",
        "\n",
        "\n",
        "add_temporal_features(train)\n",
        "add_temporal_features(test)"
      ],
      "execution_count": 0,
      "outputs": []
    },
    {
      "cell_type": "markdown",
      "metadata": {
        "colab_type": "text",
        "id": "38r3kyuodH9j"
      },
      "source": [
        "#### 3.3 Risky features e OHE"
      ]
    },
    {
      "cell_type": "markdown",
      "metadata": {
        "colab_type": "text",
        "id": "35fVqx6fdH9r"
      },
      "source": [
        "<div class=\"alert alert-success\">\n",
        "    Q.19<br>\n",
        "    Adicione a coluna <code>is_risky_airline</code> que terá o valor 1 caso a companhia aérea for <code>NK, F9, MQ ou EV</code> e 0 caso contrário, ao treino e teste.\n",
        "</div>"
      ]
    },
    {
      "cell_type": "code",
      "metadata": {
        "colab_type": "code",
        "id": "_aZOgL2LdH9v",
        "colab": {}
      },
      "source": [
        "risky_airlines = ['NK', 'F9', 'MQ', 'EV']\n",
        "risk = {k: 1 if k in risky_airlines else 0 for k in hist.airline}\n",
        "train['is_risky_airline'] = train['airline'].map(risk)\n",
        "test['is_risky_airline'] = test['airline'].map(risk) "
      ],
      "execution_count": 0,
      "outputs": []
    },
    {
      "cell_type": "markdown",
      "metadata": {
        "colab_type": "text",
        "id": "Oi41k0DUdH-L"
      },
      "source": [
        "<div class=\"alert alert-success\">\n",
        "Q.20<br>\n",
        "    Adicione a coluna <code>is_risky_city</code> que terá o valor 1 caso a cidade de origem ou a cidade de destino for <code>New York, Boston, Chicago, San Francisco, Los Angeles ou Atlanta</code> e 0 caso contrário, ao treino e teste.\n",
        "</div>\n",
        "\n",
        "A função <code>my_is_risky_city</code> terá de ser usada para se comparar strings ignorando maiúsculas e espaços."
      ]
    },
    {
      "cell_type": "code",
      "metadata": {
        "colab_type": "code",
        "id": "2imPzO6GdH-W",
        "colab": {}
      },
      "source": [
        "risky_cities = 'newyork boston chicago sanfrancisco losangeles atlanta'.split()\n",
        "\n",
        "def my_is_risky_city(city):\n",
        "    return city.replace(' ', '').lower() in risky_cities\n",
        "\n",
        "train['is_risky_city'] = [np.max([my_is_risky_city(x), my_is_risky_city(y)]).astype(int) for x, y in zip(train.city_x, train.city_y)]\n",
        "test['is_risky_city'] = [np.max([my_is_risky_city(x), my_is_risky_city(y)]).astype(int) for x, y in zip(test.city_x, test.city_y)]"
      ],
      "execution_count": 0,
      "outputs": []
    },
    {
      "cell_type": "markdown",
      "metadata": {
        "colab_type": "text",
        "id": "bn3GJXEYdH_P"
      },
      "source": [
        "<div class=\"alert alert-success\">\n",
        "Q.21<br>\n",
        "    Utilizando a função <code>apply_ohe</code> da primeira parte do trabalho ou adicionando manualmente as colunas. \n",
        "    <br><br>\n",
        "    Adicione, com base nos dados históricos, o OHE do top-5 de aeroportos de partida com mais voos atrasados, ao treino e teste.\n",
        "</div>"
      ]
    },
    {
      "cell_type": "code",
      "metadata": {
        "colab_type": "code",
        "id": "ziqBspqSdH_U",
        "colab": {}
      },
      "source": [
        "categories_ohe = hist.groupby('origin_airport').is_delayed.mean().sort_values(ascending=False).head(5).index.values\n",
        "\n",
        "# apply OHE in train and test\n",
        "def apply_ohe(categories):\n",
        "  ohe = np.eye(len(categories))\n",
        "  return {k: ohe[:,n] for n, k in enumerate(categories)}\n",
        "\n",
        "\n",
        "for k in categories_ohe:\n",
        "    train['origin_airport_{0!s}'.format(k)] = train.origin_airport.map({k: apply_ohe(categories_ohe)[k]})\n",
        "    test['origin_airport_{0!s}'.format(k)] = test.origin_airport.map({k: apply_ohe(categories_ohe)[k]})"
      ],
      "execution_count": 0,
      "outputs": []
    },
    {
      "cell_type": "markdown",
      "metadata": {
        "colab_type": "text",
        "id": "9tsWSCYgdH_f"
      },
      "source": [
        "#### 3.4 Normalizar colunas"
      ]
    },
    {
      "cell_type": "markdown",
      "metadata": {
        "colab_type": "text",
        "id": "EU_yB0hudH_i"
      },
      "source": [
        "<div class=\"alert alert-success\">\n",
        "Q.22<br>\n",
        "    Com base na média e desvio padrão da coluna <code>distance</code> dos dados históricos, adicione a coluna <code>distance_normalized</code> com a utilização da normalização <code>z_score</code> na coluna <code>distance</code>.\n",
        "</div>"
      ]
    },
    {
      "cell_type": "code",
      "metadata": {
        "colab_type": "code",
        "id": "8YLaiGiwdH_m",
        "colab": {}
      },
      "source": [
        "def z_score(df, column, mean, std):\n",
        "    return (df[column] - mean) / std\n",
        "\n",
        "mean = hist.distance.mean()\n",
        "std = hist.distance.std()\n",
        "\n",
        "train['distance_normalized'] = z_score(train, 'distance', mean, std)\n",
        "test['distance_normalized'] = z_score(test, 'distance', mean, std)"
      ],
      "execution_count": 0,
      "outputs": []
    },
    {
      "cell_type": "code",
      "metadata": {
        "colab_type": "code",
        "id": "qLjHlzGvdH_8",
        "colab": {
          "base_uri": "https://localhost:8080/",
          "height": 503
        },
        "outputId": "38c457af-0277-4a58-af29-4c04ffed0241"
      },
      "source": [
        "train.distance.plot.hist() "
      ],
      "execution_count": 145,
      "outputs": [
        {
          "output_type": "execute_result",
          "data": {
            "text/plain": [
              "<matplotlib.axes._subplots.AxesSubplot at 0x7f8b420f38d0>"
            ]
          },
          "metadata": {
            "tags": []
          },
          "execution_count": 145
        },
        {
          "output_type": "display_data",
          "data": {
            "image/png": "[encoded data removed]",
            "text/plain": [
              "<Figure size 864x576 with 1 Axes>"
            ]
          },
          "metadata": {
            "tags": []
          }
        }
      ]
    },
    {
      "cell_type": "code",
      "metadata": {
        "colab_type": "code",
        "id": "d8gSULa_dIAF",
        "colab": {
          "base_uri": "https://localhost:8080/",
          "height": 503
        },
        "outputId": "231863a5-ba94-4663-a921-be2ae133654e"
      },
      "source": [
        "train.distance_normalized.plot.hist()"
      ],
      "execution_count": 146,
      "outputs": [
        {
          "output_type": "execute_result",
          "data": {
            "text/plain": [
              "<matplotlib.axes._subplots.AxesSubplot at 0x7f8b4177af28>"
            ]
          },
          "metadata": {
            "tags": []
          },
          "execution_count": 146
        },
        {
          "output_type": "display_data",
          "data": {
            "image/png": "[encoded data removed]",
            "text/plain": [
              "<Figure size 864x576 with 1 Axes>"
            ]
          },
          "metadata": {
            "tags": []
          }
        }
      ]
    },
    {
      "cell_type": "markdown",
      "metadata": {
        "colab_type": "text",
        "id": "wDF9kkRrdIAP"
      },
      "source": [
        "#### 3.5 Outras colunas"
      ]
    },
    {
      "cell_type": "markdown",
      "metadata": {
        "colab_type": "text",
        "id": "5L7hR5l9dIAS"
      },
      "source": [
        "<div class=\"alert alert-warning\">\n",
        "Q.23<br>\n",
        "    Esta secção é opcional.\n",
        "    <br><br>\n",
        "    Adicione outras features que pense serem preditivas na identificação de atrasos em voos.\n",
        "</div>"
      ]
    },
    {
      "cell_type": "markdown",
      "metadata": {
        "colab_type": "text",
        "id": "-QeFwhoNdIAY"
      },
      "source": [
        "#### 3.6 Remover colunas desnecessárias"
      ]
    },
    {
      "cell_type": "markdown",
      "metadata": {
        "colab_type": "text",
        "id": "7kspYfEqdIAd"
      },
      "source": [
        "Neste momento temos imensas colunas ou que não podem ser usadas para treinar o modelo (p.e. `arrival_delay`) ou que não fazem sentido usar (p.e. `year`) ou porque o modelo não suporta (p.e. colunas do tipo string). Assim vamos remover todas as colunas desnecessárias."
      ]
    },
    {
      "cell_type": "code",
      "metadata": {
        "colab_type": "code",
        "id": "w7pPWKLudIAh",
        "colab": {}
      },
      "source": [
        "ohe = ['origin_airport_%s' % categ for categ in categories_ohe]\n",
        "\n",
        "columns_to_keep = 'is_delayed day_of_week departure_delay scheduled_departure scheduled_time perc_delayed_flights_airline perc_delayed_flights_route avg_delay_city avg_delay_airline is_weekend is_monday is_saturday is_risky_airline is_risky_city distance_normalized'.split()\n",
        "columns_to_keep.extend(ohe)\n",
        "\n",
        "train = train[columns_to_keep].copy()\n",
        "test = test[columns_to_keep].copy()"
      ],
      "execution_count": 0,
      "outputs": []
    },
    {
      "cell_type": "markdown",
      "metadata": {
        "colab_type": "text",
        "id": "QsIyUCOudIAs"
      },
      "source": [
        "Por fim podemos analisar a correlação entre as features de forma a removermos features correlacionadas"
      ]
    },
    {
      "cell_type": "code",
      "metadata": {
        "colab_type": "code",
        "id": "n7RrIxGfdIAw",
        "colab": {
          "base_uri": "https://localhost:8080/",
          "height": 534
        },
        "outputId": "ebe65ea9-1cbc-454d-92f2-7f58fc04930b"
      },
      "source": [
        "corr = train.corr()\n",
        "\n",
        "# all entries with correlation below 0.9 will display nan\n",
        "corr[(corr >= 0.9) | (corr <= -0.9)]"
      ],
      "execution_count": 148,
      "outputs": [
        {
          "output_type": "execute_result",
          "data": {
            "text/html": [
              "<div>\n",
              "<style scoped>\n",
              "    .dataframe tbody tr th:only-of-type {\n",
              "        vertical-align: middle;\n",
              "    }\n",
              "\n",
              "    .dataframe tbody tr th {\n",
              "        vertical-align: top;\n",
              "    }\n",
              "\n",
              "    .dataframe thead th {\n",
              "        text-align: right;\n",
              "    }\n",
              "</style>\n",
              "<table border=\"1\" class=\"dataframe\">\n",
              "  <thead>\n",
              "    <tr style=\"text-align: right;\">\n",
              "      <th></th>\n",
              "      <th>is_delayed</th>\n",
              "      <th>day_of_week</th>\n",
              "      <th>departure_delay</th>\n",
              "      <th>scheduled_departure</th>\n",
              "      <th>scheduled_time</th>\n",
              "      <th>perc_delayed_flights_airline</th>\n",
              "      <th>perc_delayed_flights_route</th>\n",
              "      <th>avg_delay_city</th>\n",
              "      <th>avg_delay_airline</th>\n",
              "      <th>is_weekend</th>\n",
              "      <th>is_monday</th>\n",
              "      <th>is_saturday</th>\n",
              "      <th>is_risky_airline</th>\n",
              "      <th>is_risky_city</th>\n",
              "      <th>distance_normalized</th>\n",
              "    </tr>\n",
              "  </thead>\n",
              "  <tbody>\n",
              "    <tr>\n",
              "      <th>is_delayed</th>\n",
              "      <td>1.000</td>\n",
              "      <td>nan</td>\n",
              "      <td>nan</td>\n",
              "      <td>nan</td>\n",
              "      <td>nan</td>\n",
              "      <td>nan</td>\n",
              "      <td>nan</td>\n",
              "      <td>nan</td>\n",
              "      <td>nan</td>\n",
              "      <td>nan</td>\n",
              "      <td>nan</td>\n",
              "      <td>nan</td>\n",
              "      <td>nan</td>\n",
              "      <td>nan</td>\n",
              "      <td>nan</td>\n",
              "    </tr>\n",
              "    <tr>\n",
              "      <th>day_of_week</th>\n",
              "      <td>nan</td>\n",
              "      <td>1.000</td>\n",
              "      <td>nan</td>\n",
              "      <td>nan</td>\n",
              "      <td>nan</td>\n",
              "      <td>nan</td>\n",
              "      <td>nan</td>\n",
              "      <td>nan</td>\n",
              "      <td>nan</td>\n",
              "      <td>nan</td>\n",
              "      <td>nan</td>\n",
              "      <td>nan</td>\n",
              "      <td>nan</td>\n",
              "      <td>nan</td>\n",
              "      <td>nan</td>\n",
              "    </tr>\n",
              "    <tr>\n",
              "      <th>departure_delay</th>\n",
              "      <td>nan</td>\n",
              "      <td>nan</td>\n",
              "      <td>1.000</td>\n",
              "      <td>nan</td>\n",
              "      <td>nan</td>\n",
              "      <td>nan</td>\n",
              "      <td>nan</td>\n",
              "      <td>nan</td>\n",
              "      <td>nan</td>\n",
              "      <td>nan</td>\n",
              "      <td>nan</td>\n",
              "      <td>nan</td>\n",
              "      <td>nan</td>\n",
              "      <td>nan</td>\n",
              "      <td>nan</td>\n",
              "    </tr>\n",
              "    <tr>\n",
              "      <th>scheduled_departure</th>\n",
              "      <td>nan</td>\n",
              "      <td>nan</td>\n",
              "      <td>nan</td>\n",
              "      <td>1.000</td>\n",
              "      <td>nan</td>\n",
              "      <td>nan</td>\n",
              "      <td>nan</td>\n",
              "      <td>nan</td>\n",
              "      <td>nan</td>\n",
              "      <td>nan</td>\n",
              "      <td>nan</td>\n",
              "      <td>nan</td>\n",
              "      <td>nan</td>\n",
              "      <td>nan</td>\n",
              "      <td>nan</td>\n",
              "    </tr>\n",
              "    <tr>\n",
              "      <th>scheduled_time</th>\n",
              "      <td>nan</td>\n",
              "      <td>nan</td>\n",
              "      <td>nan</td>\n",
              "      <td>nan</td>\n",
              "      <td>1.000</td>\n",
              "      <td>nan</td>\n",
              "      <td>nan</td>\n",
              "      <td>nan</td>\n",
              "      <td>nan</td>\n",
              "      <td>nan</td>\n",
              "      <td>nan</td>\n",
              "      <td>nan</td>\n",
              "      <td>nan</td>\n",
              "      <td>nan</td>\n",
              "      <td>0.982</td>\n",
              "    </tr>\n",
              "    <tr>\n",
              "      <th>perc_delayed_flights_airline</th>\n",
              "      <td>nan</td>\n",
              "      <td>nan</td>\n",
              "      <td>nan</td>\n",
              "      <td>nan</td>\n",
              "      <td>nan</td>\n",
              "      <td>1.000</td>\n",
              "      <td>nan</td>\n",
              "      <td>nan</td>\n",
              "      <td>nan</td>\n",
              "      <td>nan</td>\n",
              "      <td>nan</td>\n",
              "      <td>nan</td>\n",
              "      <td>nan</td>\n",
              "      <td>nan</td>\n",
              "      <td>nan</td>\n",
              "    </tr>\n",
              "    <tr>\n",
              "      <th>perc_delayed_flights_route</th>\n",
              "      <td>nan</td>\n",
              "      <td>nan</td>\n",
              "      <td>nan</td>\n",
              "      <td>nan</td>\n",
              "      <td>nan</td>\n",
              "      <td>nan</td>\n",
              "      <td>1.000</td>\n",
              "      <td>nan</td>\n",
              "      <td>nan</td>\n",
              "      <td>nan</td>\n",
              "      <td>nan</td>\n",
              "      <td>nan</td>\n",
              "      <td>nan</td>\n",
              "      <td>nan</td>\n",
              "      <td>nan</td>\n",
              "    </tr>\n",
              "    <tr>\n",
              "      <th>avg_delay_city</th>\n",
              "      <td>nan</td>\n",
              "      <td>nan</td>\n",
              "      <td>nan</td>\n",
              "      <td>nan</td>\n",
              "      <td>nan</td>\n",
              "      <td>nan</td>\n",
              "      <td>nan</td>\n",
              "      <td>1.000</td>\n",
              "      <td>nan</td>\n",
              "      <td>nan</td>\n",
              "      <td>nan</td>\n",
              "      <td>nan</td>\n",
              "      <td>nan</td>\n",
              "      <td>nan</td>\n",
              "      <td>nan</td>\n",
              "    </tr>\n",
              "    <tr>\n",
              "      <th>avg_delay_airline</th>\n",
              "      <td>nan</td>\n",
              "      <td>nan</td>\n",
              "      <td>nan</td>\n",
              "      <td>nan</td>\n",
              "      <td>nan</td>\n",
              "      <td>nan</td>\n",
              "      <td>nan</td>\n",
              "      <td>nan</td>\n",
              "      <td>1.000</td>\n",
              "      <td>nan</td>\n",
              "      <td>nan</td>\n",
              "      <td>nan</td>\n",
              "      <td>nan</td>\n",
              "      <td>nan</td>\n",
              "      <td>nan</td>\n",
              "    </tr>\n",
              "    <tr>\n",
              "      <th>is_weekend</th>\n",
              "      <td>nan</td>\n",
              "      <td>nan</td>\n",
              "      <td>nan</td>\n",
              "      <td>nan</td>\n",
              "      <td>nan</td>\n",
              "      <td>nan</td>\n",
              "      <td>nan</td>\n",
              "      <td>nan</td>\n",
              "      <td>nan</td>\n",
              "      <td>1.000</td>\n",
              "      <td>nan</td>\n",
              "      <td>nan</td>\n",
              "      <td>nan</td>\n",
              "      <td>nan</td>\n",
              "      <td>nan</td>\n",
              "    </tr>\n",
              "    <tr>\n",
              "      <th>is_monday</th>\n",
              "      <td>nan</td>\n",
              "      <td>nan</td>\n",
              "      <td>nan</td>\n",
              "      <td>nan</td>\n",
              "      <td>nan</td>\n",
              "      <td>nan</td>\n",
              "      <td>nan</td>\n",
              "      <td>nan</td>\n",
              "      <td>nan</td>\n",
              "      <td>nan</td>\n",
              "      <td>1.000</td>\n",
              "      <td>nan</td>\n",
              "      <td>nan</td>\n",
              "      <td>nan</td>\n",
              "      <td>nan</td>\n",
              "    </tr>\n",
              "    <tr>\n",
              "      <th>is_saturday</th>\n",
              "      <td>nan</td>\n",
              "      <td>nan</td>\n",
              "      <td>nan</td>\n",
              "      <td>nan</td>\n",
              "      <td>nan</td>\n",
              "      <td>nan</td>\n",
              "      <td>nan</td>\n",
              "      <td>nan</td>\n",
              "      <td>nan</td>\n",
              "      <td>nan</td>\n",
              "      <td>nan</td>\n",
              "      <td>1.000</td>\n",
              "      <td>nan</td>\n",
              "      <td>nan</td>\n",
              "      <td>nan</td>\n",
              "    </tr>\n",
              "    <tr>\n",
              "      <th>is_risky_airline</th>\n",
              "      <td>nan</td>\n",
              "      <td>nan</td>\n",
              "      <td>nan</td>\n",
              "      <td>nan</td>\n",
              "      <td>nan</td>\n",
              "      <td>nan</td>\n",
              "      <td>nan</td>\n",
              "      <td>nan</td>\n",
              "      <td>nan</td>\n",
              "      <td>nan</td>\n",
              "      <td>nan</td>\n",
              "      <td>nan</td>\n",
              "      <td>1.000</td>\n",
              "      <td>nan</td>\n",
              "      <td>nan</td>\n",
              "    </tr>\n",
              "    <tr>\n",
              "      <th>is_risky_city</th>\n",
              "      <td>nan</td>\n",
              "      <td>nan</td>\n",
              "      <td>nan</td>\n",
              "      <td>nan</td>\n",
              "      <td>nan</td>\n",
              "      <td>nan</td>\n",
              "      <td>nan</td>\n",
              "      <td>nan</td>\n",
              "      <td>nan</td>\n",
              "      <td>nan</td>\n",
              "      <td>nan</td>\n",
              "      <td>nan</td>\n",
              "      <td>nan</td>\n",
              "      <td>1.000</td>\n",
              "      <td>nan</td>\n",
              "    </tr>\n",
              "    <tr>\n",
              "      <th>distance_normalized</th>\n",
              "      <td>nan</td>\n",
              "      <td>nan</td>\n",
              "      <td>nan</td>\n",
              "      <td>nan</td>\n",
              "      <td>0.982</td>\n",
              "      <td>nan</td>\n",
              "      <td>nan</td>\n",
              "      <td>nan</td>\n",
              "      <td>nan</td>\n",
              "      <td>nan</td>\n",
              "      <td>nan</td>\n",
              "      <td>nan</td>\n",
              "      <td>nan</td>\n",
              "      <td>nan</td>\n",
              "      <td>1.000</td>\n",
              "    </tr>\n",
              "  </tbody>\n",
              "</table>\n",
              "</div>"
            ],
            "text/plain": [
              "                              is_delayed  day_of_week  departure_delay  \\\n",
              "is_delayed                         1.000          nan              nan   \n",
              "day_of_week                          nan        1.000              nan   \n",
              "departure_delay                      nan          nan            1.000   \n",
              "scheduled_departure                  nan          nan              nan   \n",
              "scheduled_time                       nan          nan              nan   \n",
              "perc_delayed_flights_airline         nan          nan              nan   \n",
              "perc_delayed_flights_route           nan          nan              nan   \n",
              "avg_delay_city                       nan          nan              nan   \n",
              "avg_delay_airline                    nan          nan              nan   \n",
              "is_weekend                           nan          nan              nan   \n",
              "is_monday                            nan          nan              nan   \n",
              "is_saturday                          nan          nan              nan   \n",
              "is_risky_airline                     nan          nan              nan   \n",
              "is_risky_city                        nan          nan              nan   \n",
              "distance_normalized                  nan          nan              nan   \n",
              "\n",
              "                              scheduled_departure  scheduled_time  \\\n",
              "is_delayed                                    nan             nan   \n",
              "day_of_week                                   nan             nan   \n",
              "departure_delay                               nan             nan   \n",
              "scheduled_departure                         1.000             nan   \n",
              "scheduled_time                                nan           1.000   \n",
              "perc_delayed_flights_airline                  nan             nan   \n",
              "perc_delayed_flights_route                    nan             nan   \n",
              "avg_delay_city                                nan             nan   \n",
              "avg_delay_airline                             nan             nan   \n",
              "is_weekend                                    nan             nan   \n",
              "is_monday                                     nan             nan   \n",
              "is_saturday                                   nan             nan   \n",
              "is_risky_airline                              nan             nan   \n",
              "is_risky_city                                 nan             nan   \n",
              "distance_normalized                           nan           0.982   \n",
              "\n",
              "                              perc_delayed_flights_airline  \\\n",
              "is_delayed                                             nan   \n",
              "day_of_week                                            nan   \n",
              "departure_delay                                        nan   \n",
              "scheduled_departure                                    nan   \n",
              "scheduled_time                                         nan   \n",
              "perc_delayed_flights_airline                         1.000   \n",
              "perc_delayed_flights_route                             nan   \n",
              "avg_delay_city                                         nan   \n",
              "avg_delay_airline                                      nan   \n",
              "is_weekend                                             nan   \n",
              "is_monday                                              nan   \n",
              "is_saturday                                            nan   \n",
              "is_risky_airline                                       nan   \n",
              "is_risky_city                                          nan   \n",
              "distance_normalized                                    nan   \n",
              "\n",
              "                              perc_delayed_flights_route  avg_delay_city  \\\n",
              "is_delayed                                           nan             nan   \n",
              "day_of_week                                          nan             nan   \n",
              "departure_delay                                      nan             nan   \n",
              "scheduled_departure                                  nan             nan   \n",
              "scheduled_time                                       nan             nan   \n",
              "perc_delayed_flights_airline                         nan             nan   \n",
              "perc_delayed_flights_route                         1.000             nan   \n",
              "avg_delay_city                                       nan           1.000   \n",
              "avg_delay_airline                                    nan             nan   \n",
              "is_weekend                                           nan             nan   \n",
              "is_monday                                            nan             nan   \n",
              "is_saturday                                          nan             nan   \n",
              "is_risky_airline                                     nan             nan   \n",
              "is_risky_city                                        nan             nan   \n",
              "distance_normalized                                  nan             nan   \n",
              "\n",
              "                              avg_delay_airline  is_weekend  is_monday  \\\n",
              "is_delayed                                  nan         nan        nan   \n",
              "day_of_week                                 nan         nan        nan   \n",
              "departure_delay                             nan         nan        nan   \n",
              "scheduled_departure                         nan         nan        nan   \n",
              "scheduled_time                              nan         nan        nan   \n",
              "perc_delayed_flights_airline                nan         nan        nan   \n",
              "perc_delayed_flights_route                  nan         nan        nan   \n",
              "avg_delay_city                              nan         nan        nan   \n",
              "avg_delay_airline                         1.000         nan        nan   \n",
              "is_weekend                                  nan       1.000        nan   \n",
              "is_monday                                   nan         nan      1.000   \n",
              "is_saturday                                 nan         nan        nan   \n",
              "is_risky_airline                            nan         nan        nan   \n",
              "is_risky_city                               nan         nan        nan   \n",
              "distance_normalized                         nan         nan        nan   \n",
              "\n",
              "                              is_saturday  is_risky_airline  is_risky_city  \\\n",
              "is_delayed                            nan               nan            nan   \n",
              "day_of_week                           nan               nan            nan   \n",
              "departure_delay                       nan               nan            nan   \n",
              "scheduled_departure                   nan               nan            nan   \n",
              "scheduled_time                        nan               nan            nan   \n",
              "perc_delayed_flights_airline          nan               nan            nan   \n",
              "perc_delayed_flights_route            nan               nan            nan   \n",
              "avg_delay_city                        nan               nan            nan   \n",
              "avg_delay_airline                     nan               nan            nan   \n",
              "is_weekend                            nan               nan            nan   \n",
              "is_monday                             nan               nan            nan   \n",
              "is_saturday                         1.000               nan            nan   \n",
              "is_risky_airline                      nan             1.000            nan   \n",
              "is_risky_city                         nan               nan          1.000   \n",
              "distance_normalized                   nan               nan            nan   \n",
              "\n",
              "                              distance_normalized  \n",
              "is_delayed                                    nan  \n",
              "day_of_week                                   nan  \n",
              "departure_delay                               nan  \n",
              "scheduled_departure                           nan  \n",
              "scheduled_time                              0.982  \n",
              "perc_delayed_flights_airline                  nan  \n",
              "perc_delayed_flights_route                    nan  \n",
              "avg_delay_city                                nan  \n",
              "avg_delay_airline                             nan  \n",
              "is_weekend                                    nan  \n",
              "is_monday                                     nan  \n",
              "is_saturday                                   nan  \n",
              "is_risky_airline                              nan  \n",
              "is_risky_city                                 nan  \n",
              "distance_normalized                         1.000  "
            ]
          },
          "metadata": {
            "tags": []
          },
          "execution_count": 148
        }
      ]
    },
    {
      "cell_type": "markdown",
      "metadata": {
        "id": "oWXeTBKdM98S",
        "colab_type": "text"
      },
      "source": [
        ""
      ]
    },
    {
      "cell_type": "markdown",
      "metadata": {
        "colab_type": "text",
        "id": "Zhv9-dQSdIBU"
      },
      "source": [
        "Podemos observar que as features `avg_delay_airline` e `perc_delayed_flights_airline` têm correlação elevada e faz sentido, uma vez que estão a representar informação muito idêntica.\n",
        "<br><br>\n",
        "Os campos `distance_normalized` e `scheduled_time` também têm correlação elevada, contudo tal já não é tão claro. Será que os voos com maior distência são de noite?"
      ]
    },
    {
      "cell_type": "markdown",
      "metadata": {
        "colab_type": "text",
        "id": "W0MuLSBYdIBa"
      },
      "source": [
        "___\n",
        "### 4. Construir regressão logística\n",
        "___"
      ]
    },
    {
      "cell_type": "markdown",
      "metadata": {
        "colab_type": "text",
        "id": "-g58HbHHdIBe"
      },
      "source": [
        "Antes de começar a treinar o modelo, vamos converter a coluna `is_delayed` para o tipo numérico (requisito da regressão linear)."
      ]
    },
    {
      "cell_type": "code",
      "metadata": {
        "colab_type": "code",
        "id": "PQo0OrF5dIBh",
        "scrolled": true,
        "colab": {}
      },
      "source": [
        "train['is_delayed'] = train.is_delayed.astype(int)\n",
        "test['is_delayed'] = test.is_delayed.astype(int)"
      ],
      "execution_count": 0,
      "outputs": []
    },
    {
      "cell_type": "markdown",
      "metadata": {
        "colab_type": "text",
        "id": "m5lAnrSKdIBv"
      },
      "source": [
        "Tratar os NaNs. Neste caso estamos a substituir todos os NaNs por 0."
      ]
    },
    {
      "cell_type": "code",
      "metadata": {
        "colab_type": "code",
        "id": "qnwI08NUdIBz",
        "colab": {}
      },
      "source": [
        "for c in train.isnull().sum()[lambda x: x>0].index:\n",
        "    train[c].fillna(0, inplace=True)\n",
        "    \n",
        "for c in test.isnull().sum()[lambda x: x>0].index:\n",
        "    test[c].fillna(0, inplace=True)"
      ],
      "execution_count": 0,
      "outputs": []
    },
    {
      "cell_type": "markdown",
      "metadata": {
        "colab_type": "text",
        "id": "r6M73mo5dICU"
      },
      "source": [
        "#### 4.1 Treino do modelo"
      ]
    },
    {
      "cell_type": "code",
      "metadata": {
        "colab_type": "code",
        "id": "kTAO6PMUdICX",
        "colab": {
          "base_uri": "https://localhost:8080/",
          "height": 442
        },
        "outputId": "f19b476a-09d8-4b46-9d22-ec68eb39d989"
      },
      "source": [
        "from sklearn.linear_model import LogisticRegression\n",
        "\n",
        "# build features set\n",
        "features = train.columns.drop('is_delayed')\n",
        "\n",
        "# train logistic regression to predic is_delayed \n",
        "model = LogisticRegression()\n",
        "train_results = model.fit(train[features], train.is_delayed)\n",
        "\n",
        "# use trained model to predit is_delayed field in test set\n",
        "test_results = model.predict(test[features])"
      ],
      "execution_count": 155,
      "outputs": [
        {
          "output_type": "stream",
          "text": [
            "/usr/local/lib/python3.6/dist-packages/sklearn/linear_model/logistic.py:432: FutureWarning:\n",
            "\n",
            "Default solver will be changed to 'lbfgs' in 0.22. Specify a solver to silence this warning.\n",
            "\n"
          ],
          "name": "stderr"
        },
        {
          "output_type": "error",
          "ename": "ValueError",
          "evalue": "ignored",
          "traceback": [
            "\u001b[0;31m---------------------------------------------------------------------------\u001b[0m",
            "\u001b[0;31mValueError\u001b[0m                                Traceback (most recent call last)",
            "\u001b[0;32m<ipython-input-155-3a1fca2dffbb>\u001b[0m in \u001b[0;36m<module>\u001b[0;34m()\u001b[0m\n\u001b[1;32m      6\u001b[0m \u001b[0;31m# train logistic regression to predic is_delayed\u001b[0m\u001b[0;34m\u001b[0m\u001b[0;34m\u001b[0m\u001b[0;34m\u001b[0m\u001b[0m\n\u001b[1;32m      7\u001b[0m \u001b[0mmodel\u001b[0m \u001b[0;34m=\u001b[0m \u001b[0mLogisticRegression\u001b[0m\u001b[0;34m(\u001b[0m\u001b[0;34m)\u001b[0m\u001b[0;34m\u001b[0m\u001b[0;34m\u001b[0m\u001b[0m\n\u001b[0;32m----> 8\u001b[0;31m \u001b[0mtrain_results\u001b[0m \u001b[0;34m=\u001b[0m \u001b[0mmodel\u001b[0m\u001b[0;34m.\u001b[0m\u001b[0mfit\u001b[0m\u001b[0;34m(\u001b[0m\u001b[0mtrain\u001b[0m\u001b[0;34m[\u001b[0m\u001b[0mfeatures\u001b[0m\u001b[0;34m]\u001b[0m\u001b[0;34m,\u001b[0m \u001b[0mtrain\u001b[0m\u001b[0;34m.\u001b[0m\u001b[0mis_delayed\u001b[0m\u001b[0;34m)\u001b[0m\u001b[0;34m\u001b[0m\u001b[0;34m\u001b[0m\u001b[0m\n\u001b[0m\u001b[1;32m      9\u001b[0m \u001b[0;34m\u001b[0m\u001b[0m\n\u001b[1;32m     10\u001b[0m \u001b[0;31m# use trained model to predit is_delayed field in test set\u001b[0m\u001b[0;34m\u001b[0m\u001b[0;34m\u001b[0m\u001b[0;34m\u001b[0m\u001b[0m\n",
            "\u001b[0;32m/usr/local/lib/python3.6/dist-packages/sklearn/linear_model/logistic.py\u001b[0m in \u001b[0;36mfit\u001b[0;34m(self, X, y, sample_weight)\u001b[0m\n\u001b[1;32m   1530\u001b[0m \u001b[0;34m\u001b[0m\u001b[0m\n\u001b[1;32m   1531\u001b[0m         X, y = check_X_y(X, y, accept_sparse='csr', dtype=_dtype, order=\"C\",\n\u001b[0;32m-> 1532\u001b[0;31m                          accept_large_sparse=solver != 'liblinear')\n\u001b[0m\u001b[1;32m   1533\u001b[0m         \u001b[0mcheck_classification_targets\u001b[0m\u001b[0;34m(\u001b[0m\u001b[0my\u001b[0m\u001b[0;34m)\u001b[0m\u001b[0;34m\u001b[0m\u001b[0;34m\u001b[0m\u001b[0m\n\u001b[1;32m   1534\u001b[0m         \u001b[0mself\u001b[0m\u001b[0;34m.\u001b[0m\u001b[0mclasses_\u001b[0m \u001b[0;34m=\u001b[0m \u001b[0mnp\u001b[0m\u001b[0;34m.\u001b[0m\u001b[0munique\u001b[0m\u001b[0;34m(\u001b[0m\u001b[0my\u001b[0m\u001b[0;34m)\u001b[0m\u001b[0;34m\u001b[0m\u001b[0;34m\u001b[0m\u001b[0m\n",
            "\u001b[0;32m/usr/local/lib/python3.6/dist-packages/sklearn/utils/validation.py\u001b[0m in \u001b[0;36mcheck_X_y\u001b[0;34m(X, y, accept_sparse, accept_large_sparse, dtype, order, copy, force_all_finite, ensure_2d, allow_nd, multi_output, ensure_min_samples, ensure_min_features, y_numeric, warn_on_dtype, estimator)\u001b[0m\n\u001b[1;32m    717\u001b[0m                     \u001b[0mensure_min_features\u001b[0m\u001b[0;34m=\u001b[0m\u001b[0mensure_min_features\u001b[0m\u001b[0;34m,\u001b[0m\u001b[0;34m\u001b[0m\u001b[0;34m\u001b[0m\u001b[0m\n\u001b[1;32m    718\u001b[0m                     \u001b[0mwarn_on_dtype\u001b[0m\u001b[0;34m=\u001b[0m\u001b[0mwarn_on_dtype\u001b[0m\u001b[0;34m,\u001b[0m\u001b[0;34m\u001b[0m\u001b[0;34m\u001b[0m\u001b[0m\n\u001b[0;32m--> 719\u001b[0;31m                     estimator=estimator)\n\u001b[0m\u001b[1;32m    720\u001b[0m     \u001b[0;32mif\u001b[0m \u001b[0mmulti_output\u001b[0m\u001b[0;34m:\u001b[0m\u001b[0;34m\u001b[0m\u001b[0;34m\u001b[0m\u001b[0m\n\u001b[1;32m    721\u001b[0m         y = check_array(y, 'csr', force_all_finite=True, ensure_2d=False,\n",
            "\u001b[0;32m/usr/local/lib/python3.6/dist-packages/sklearn/utils/validation.py\u001b[0m in \u001b[0;36mcheck_array\u001b[0;34m(array, accept_sparse, accept_large_sparse, dtype, order, copy, force_all_finite, ensure_2d, allow_nd, ensure_min_samples, ensure_min_features, warn_on_dtype, estimator)\u001b[0m\n\u001b[1;32m    494\u001b[0m             \u001b[0;32mtry\u001b[0m\u001b[0;34m:\u001b[0m\u001b[0;34m\u001b[0m\u001b[0;34m\u001b[0m\u001b[0m\n\u001b[1;32m    495\u001b[0m                 \u001b[0mwarnings\u001b[0m\u001b[0;34m.\u001b[0m\u001b[0msimplefilter\u001b[0m\u001b[0;34m(\u001b[0m\u001b[0;34m'error'\u001b[0m\u001b[0;34m,\u001b[0m \u001b[0mComplexWarning\u001b[0m\u001b[0;34m)\u001b[0m\u001b[0;34m\u001b[0m\u001b[0;34m\u001b[0m\u001b[0m\n\u001b[0;32m--> 496\u001b[0;31m                 \u001b[0marray\u001b[0m \u001b[0;34m=\u001b[0m \u001b[0mnp\u001b[0m\u001b[0;34m.\u001b[0m\u001b[0masarray\u001b[0m\u001b[0;34m(\u001b[0m\u001b[0marray\u001b[0m\u001b[0;34m,\u001b[0m \u001b[0mdtype\u001b[0m\u001b[0;34m=\u001b[0m\u001b[0mdtype\u001b[0m\u001b[0;34m,\u001b[0m \u001b[0morder\u001b[0m\u001b[0;34m=\u001b[0m\u001b[0morder\u001b[0m\u001b[0;34m)\u001b[0m\u001b[0;34m\u001b[0m\u001b[0;34m\u001b[0m\u001b[0m\n\u001b[0m\u001b[1;32m    497\u001b[0m             \u001b[0;32mexcept\u001b[0m \u001b[0mComplexWarning\u001b[0m\u001b[0;34m:\u001b[0m\u001b[0;34m\u001b[0m\u001b[0;34m\u001b[0m\u001b[0m\n\u001b[1;32m    498\u001b[0m                 raise ValueError(\"Complex data not supported\\n\"\n",
            "\u001b[0;32m/usr/local/lib/python3.6/dist-packages/numpy/core/numeric.py\u001b[0m in \u001b[0;36masarray\u001b[0;34m(a, dtype, order)\u001b[0m\n\u001b[1;32m    536\u001b[0m \u001b[0;34m\u001b[0m\u001b[0m\n\u001b[1;32m    537\u001b[0m     \"\"\"\n\u001b[0;32m--> 538\u001b[0;31m     \u001b[0;32mreturn\u001b[0m \u001b[0marray\u001b[0m\u001b[0;34m(\u001b[0m\u001b[0ma\u001b[0m\u001b[0;34m,\u001b[0m \u001b[0mdtype\u001b[0m\u001b[0;34m,\u001b[0m \u001b[0mcopy\u001b[0m\u001b[0;34m=\u001b[0m\u001b[0;32mFalse\u001b[0m\u001b[0;34m,\u001b[0m \u001b[0morder\u001b[0m\u001b[0;34m=\u001b[0m\u001b[0morder\u001b[0m\u001b[0;34m)\u001b[0m\u001b[0;34m\u001b[0m\u001b[0;34m\u001b[0m\u001b[0m\n\u001b[0m\u001b[1;32m    539\u001b[0m \u001b[0;34m\u001b[0m\u001b[0m\n\u001b[1;32m    540\u001b[0m \u001b[0;34m\u001b[0m\u001b[0m\n",
            "\u001b[0;31mValueError\u001b[0m: setting an array element with a sequence."
          ]
        }
      ]
    },
    {
      "cell_type": "markdown",
      "metadata": {
        "colab_type": "text",
        "id": "7heKfN6qdICi"
      },
      "source": [
        "#### 4.2 Construir matriz de confusão"
      ]
    },
    {
      "cell_type": "code",
      "metadata": {
        "colab_type": "code",
        "id": "blSK8kzkdICm",
        "colab": {
          "base_uri": "https://localhost:8080/",
          "height": 197
        },
        "outputId": "8b4ed4e9-e977-4d79-a3ac-1082f234cef0"
      },
      "source": [
        "confusion_matrix = pd.crosstab(test.is_delayed, test_results)\n",
        "confusion_matrix.columns = ['predicted_not_delay', 'predicted_delay']\n",
        "confusion_matrix.index = ['actual_not_delay', 'actual_delay']"
      ],
      "execution_count": 156,
      "outputs": [
        {
          "output_type": "error",
          "ename": "NameError",
          "evalue": "ignored",
          "traceback": [
            "\u001b[0;31m---------------------------------------------------------------------------\u001b[0m",
            "\u001b[0;31mNameError\u001b[0m                                 Traceback (most recent call last)",
            "\u001b[0;32m<ipython-input-156-273b3b25e8e8>\u001b[0m in \u001b[0;36m<module>\u001b[0;34m()\u001b[0m\n\u001b[0;32m----> 1\u001b[0;31m \u001b[0mconfusion_matrix\u001b[0m \u001b[0;34m=\u001b[0m \u001b[0mpd\u001b[0m\u001b[0;34m.\u001b[0m\u001b[0mcrosstab\u001b[0m\u001b[0;34m(\u001b[0m\u001b[0mtest\u001b[0m\u001b[0;34m.\u001b[0m\u001b[0mis_delayed\u001b[0m\u001b[0;34m,\u001b[0m \u001b[0mtest_results\u001b[0m\u001b[0;34m)\u001b[0m\u001b[0;34m\u001b[0m\u001b[0;34m\u001b[0m\u001b[0m\n\u001b[0m\u001b[1;32m      2\u001b[0m \u001b[0mconfusion_matrix\u001b[0m\u001b[0;34m.\u001b[0m\u001b[0mcolumns\u001b[0m \u001b[0;34m=\u001b[0m \u001b[0;34m[\u001b[0m\u001b[0;34m'predicted_not_delay'\u001b[0m\u001b[0;34m,\u001b[0m \u001b[0;34m'predicted_delay'\u001b[0m\u001b[0;34m]\u001b[0m\u001b[0;34m\u001b[0m\u001b[0;34m\u001b[0m\u001b[0m\n\u001b[1;32m      3\u001b[0m \u001b[0mconfusion_matrix\u001b[0m\u001b[0;34m.\u001b[0m\u001b[0mindex\u001b[0m \u001b[0;34m=\u001b[0m \u001b[0;34m[\u001b[0m\u001b[0;34m'actual_not_delay'\u001b[0m\u001b[0;34m,\u001b[0m \u001b[0;34m'actual_delay'\u001b[0m\u001b[0;34m]\u001b[0m\u001b[0;34m\u001b[0m\u001b[0;34m\u001b[0m\u001b[0m\n",
            "\u001b[0;31mNameError\u001b[0m: name 'test_results' is not defined"
          ]
        }
      ]
    },
    {
      "cell_type": "markdown",
      "metadata": {
        "colab_type": "text",
        "id": "i3LgEKDqdICx"
      },
      "source": [
        "#### 4.3 Avaliar performance do modelo"
      ]
    },
    {
      "cell_type": "markdown",
      "metadata": {
        "colab_type": "text",
        "id": "JTYkshCrdIC1"
      },
      "source": [
        "\n",
        "<div class=\"alert alert-success\">\n",
        "Q.24<br>\n",
        "    Com base na matriz de confusão calcule o accuracy (definição <a href=\"https://en.wikipedia.org/wiki/Precision_and_recall\">aqui</a>). Notar que classe positiva é a de voos com atraso.\n",
        "</div>"
      ]
    },
    {
      "cell_type": "code",
      "metadata": {
        "colab_type": "code",
        "id": "DqKYjnWBdIC4",
        "colab": {
          "base_uri": "https://localhost:8080/",
          "height": 231
        },
        "outputId": "2a62609d-6edc-40b1-e858-9a5961394f44"
      },
      "source": [
        "tp = confusion_matrix.loc['actual_delay','predicted_delay']# code here\n",
        "fp = confusion_matrix.loc['actual_not_delay','predicted_delay']# code here\n",
        "tn = confusion_matrix.loc['actual_not_delay','predicted_not_delay']# code here\n",
        "fn = confusion_matrix.loc['actual_delay','predicted_not_delay']# code here\n",
        "\n",
        "acc = (tp + tn) / (tp + tn + fp + fn) # code here\n",
        "print(acc)"
      ],
      "execution_count": 157,
      "outputs": [
        {
          "output_type": "error",
          "ename": "NameError",
          "evalue": "ignored",
          "traceback": [
            "\u001b[0;31m---------------------------------------------------------------------------\u001b[0m",
            "\u001b[0;31mNameError\u001b[0m                                 Traceback (most recent call last)",
            "\u001b[0;32m<ipython-input-157-81adc38e79b5>\u001b[0m in \u001b[0;36m<module>\u001b[0;34m()\u001b[0m\n\u001b[0;32m----> 1\u001b[0;31m \u001b[0mtp\u001b[0m \u001b[0;34m=\u001b[0m \u001b[0mconfusion_matrix\u001b[0m\u001b[0;34m.\u001b[0m\u001b[0mloc\u001b[0m\u001b[0;34m[\u001b[0m\u001b[0;34m'actual_delay'\u001b[0m\u001b[0;34m,\u001b[0m\u001b[0;34m'predicted_delay'\u001b[0m\u001b[0;34m]\u001b[0m\u001b[0;31m# code here\u001b[0m\u001b[0;34m\u001b[0m\u001b[0;34m\u001b[0m\u001b[0m\n\u001b[0m\u001b[1;32m      2\u001b[0m \u001b[0mfp\u001b[0m \u001b[0;34m=\u001b[0m \u001b[0mconfusion_matrix\u001b[0m\u001b[0;34m.\u001b[0m\u001b[0mloc\u001b[0m\u001b[0;34m[\u001b[0m\u001b[0;34m'actual_not_delay'\u001b[0m\u001b[0;34m,\u001b[0m\u001b[0;34m'predicted_delay'\u001b[0m\u001b[0;34m]\u001b[0m\u001b[0;31m# code here\u001b[0m\u001b[0;34m\u001b[0m\u001b[0;34m\u001b[0m\u001b[0m\n\u001b[1;32m      3\u001b[0m \u001b[0mtn\u001b[0m \u001b[0;34m=\u001b[0m \u001b[0mconfusion_matrix\u001b[0m\u001b[0;34m.\u001b[0m\u001b[0mloc\u001b[0m\u001b[0;34m[\u001b[0m\u001b[0;34m'actual_not_delay'\u001b[0m\u001b[0;34m,\u001b[0m\u001b[0;34m'predicted_not_delay'\u001b[0m\u001b[0;34m]\u001b[0m\u001b[0;31m# code here\u001b[0m\u001b[0;34m\u001b[0m\u001b[0;34m\u001b[0m\u001b[0m\n\u001b[1;32m      4\u001b[0m \u001b[0mfn\u001b[0m \u001b[0;34m=\u001b[0m \u001b[0mconfusion_matrix\u001b[0m\u001b[0;34m.\u001b[0m\u001b[0mloc\u001b[0m\u001b[0;34m[\u001b[0m\u001b[0;34m'actual_delay'\u001b[0m\u001b[0;34m,\u001b[0m\u001b[0;34m'predicted_not_delay'\u001b[0m\u001b[0;34m]\u001b[0m\u001b[0;31m# code here\u001b[0m\u001b[0;34m\u001b[0m\u001b[0;34m\u001b[0m\u001b[0m\n\u001b[1;32m      5\u001b[0m \u001b[0;34m\u001b[0m\u001b[0m\n",
            "\u001b[0;31mNameError\u001b[0m: name 'confusion_matrix' is not defined"
          ]
        }
      ]
    },
    {
      "cell_type": "code",
      "metadata": {
        "id": "YZJ-me64QYOH",
        "colab_type": "code",
        "colab": {}
      },
      "source": [
        ""
      ],
      "execution_count": 0,
      "outputs": []
    }
  ]
}